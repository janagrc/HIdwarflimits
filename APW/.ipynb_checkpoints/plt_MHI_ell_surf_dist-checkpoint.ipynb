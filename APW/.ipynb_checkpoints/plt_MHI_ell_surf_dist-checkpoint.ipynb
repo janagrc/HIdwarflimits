{
 "cells": [
  {
   "cell_type": "code",
   "execution_count": 1,
   "metadata": {
    "collapsed": true
   },
   "outputs": [],
   "source": [
    "%matplotlib inline\n",
    "import numpy as np\n",
    "from astropy.table import Table\n",
    "import matplotlib.pyplot as plt"
   ]
  },
  {
   "cell_type": "code",
   "execution_count": 2,
   "metadata": {},
   "outputs": [
    {
     "data": {
      "text/html": [
       "&lt;Table length=128&gt;\n",
       "<table id=\"table4447754448\" class=\"table-striped table-bordered table-condensed\">\n",
       "<thead><tr><th>GalaxyName</th><th>RA_h</th><th>RA_m</th><th>RA_s</th><th>Dec_d</th><th>Dec_m</th><th>Dec_s</th><th>Dist</th><th>sig1</th><th>sig2</th><th>vh(km/s)</th><th>MHI</th><th>siga</th><th>sigb</th><th>r_ell</th><th>ell_surf_dist</th></tr></thead>\n",
       "<thead><tr><th>str16</th><th>int64</th><th>int64</th><th>float64</th><th>int64</th><th>int64</th><th>int64</th><th>float64</th><th>float64</th><th>float64</th><th>float64</th><th>float64</th><th>float64</th><th>float64</th><th>float64</th><th>float64</th></tr></thead>\n",
       "<tr><td>*CanisMajor</td><td>7</td><td>12</td><td>35.0</td><td>-27</td><td>40</td><td>0</td><td>14.29</td><td>0.3</td><td>0.3</td><td>87.0</td><td>99.9</td><td>nan</td><td>nan</td><td>521.726269113</td><td>-240.536834071</td></tr>\n",
       "<tr><td>SagittariusdSph</td><td>18</td><td>55</td><td>19.5</td><td>-30</td><td>32</td><td>43</td><td>17.1</td><td>0.15</td><td>0.15</td><td>140.0</td><td>0.0</td><td>nan</td><td>nan</td><td>527.702778591</td><td>-234.311089704</td></tr>\n",
       "<tr><td>*TucanaIII</td><td>23</td><td>56</td><td>36.0</td><td>-59</td><td>36</td><td>0</td><td>17.01</td><td>0.16</td><td>0.16</td><td>999.9</td><td>99.9</td><td>nan</td><td>nan</td><td>525.709158084</td><td>-230.739499566</td></tr>\n",
       "<tr><td>*DracoII</td><td>15</td><td>52</td><td>47.6</td><td>64</td><td>33</td><td>55</td><td>16.9</td><td>0.3</td><td>0.3</td><td>999.9</td><td>99.9</td><td>nan</td><td>nan</td><td>512.06877796</td><td>-236.35353465</td></tr>\n",
       "<tr><td>Segue(I)</td><td>10</td><td>7</td><td>4.0</td><td>16</td><td>4</td><td>55</td><td>16.8</td><td>0.2</td><td>0.2</td><td>208.5</td><td>0.0</td><td>nan</td><td>nan</td><td>530.961758822</td><td>-225.278625684</td></tr>\n",
       "<tr><td>*Reticulum2</td><td>3</td><td>35</td><td>42.1</td><td>-54</td><td>2</td><td>57</td><td>17.4</td><td>0.2</td><td>0.2</td><td>999.9</td><td>99.9</td><td>nan</td><td>nan</td><td>530.196226133</td><td>-222.375890658</td></tr>\n",
       "<tr><td>*CetusII</td><td>1</td><td>17</td><td>52.8</td><td>-17</td><td>25</td><td>12</td><td>17.38</td><td>0.19</td><td>0.19</td><td>999.9</td><td>99.9</td><td>nan</td><td>nan</td><td>506.459098004</td><td>-235.751780731</td></tr>\n",
       "<tr><td>*TriangulumII</td><td>2</td><td>13</td><td>17.4</td><td>36</td><td>10</td><td>42</td><td>17.4</td><td>0.1</td><td>0.1</td><td>999.9</td><td>99.9</td><td>nan</td><td>nan</td><td>490.867418822</td><td>-249.483540885</td></tr>\n",
       "<tr><td>UrsaMajorII</td><td>8</td><td>51</td><td>30.0</td><td>63</td><td>7</td><td>48</td><td>17.5</td><td>0.3</td><td>0.3</td><td>-116.5</td><td>1.9</td><td>1.9</td><td>0.0</td><td>511.944484011</td><td>-227.392737439</td></tr>\n",
       "<tr><td>BootesII</td><td>13</td><td>58</td><td>0.0</td><td>12</td><td>51</td><td>0</td><td>18.1</td><td>0.06</td><td>0.06</td><td>-117.0</td><td>5.2</td><td>5.2</td><td>0.0</td><td>547.723417021</td><td>-213.049015179</td></tr>\n",
       "<tr><td>...</td><td>...</td><td>...</td><td>...</td><td>...</td><td>...</td><td>...</td><td>...</td><td>...</td><td>...</td><td>...</td><td>...</td><td>...</td><td>...</td><td>...</td><td>...</td></tr>\n",
       "<tr><td>UGC8508</td><td>13</td><td>30</td><td>44.4</td><td>54</td><td>54</td><td>36</td><td>27.06</td><td>0.03</td><td>0.03</td><td>56.0</td><td>5.0</td><td>5.0</td><td>29.0</td><td>6416.26531639</td><td>2230.29182177</td></tr>\n",
       "<tr><td>IC3104</td><td>12</td><td>18</td><td>46.0</td><td>-79</td><td>43</td><td>34</td><td>26.78</td><td>0.18</td><td>0.18</td><td>429.0</td><td>4.0</td><td>4.0</td><td>13.0</td><td>4130.11843522</td><td>1975.7677259</td></tr>\n",
       "<tr><td>DDO125</td><td>12</td><td>27</td><td>40.9</td><td>43</td><td>29</td><td>44</td><td>27.06</td><td>0.05</td><td>0.05</td><td>194.9</td><td>0.2</td><td>0.2</td><td>35.0</td><td>6479.22422933</td><td>2298.62929464</td></tr>\n",
       "<tr><td>UGCA86</td><td>3</td><td>59</td><td>48.3</td><td>67</td><td>8</td><td>19</td><td>27.36</td><td>0.17</td><td>0.17</td><td>67.0</td><td>4.0</td><td>4.0</td><td>860.0</td><td>4812.28828442</td><td>1959.77729339</td></tr>\n",
       "<tr><td>DDO99</td><td>11</td><td>50</td><td>53.0</td><td>38</td><td>52</td><td>49</td><td>27.07</td><td>0.14</td><td>0.14</td><td>251.0</td><td>4.0</td><td>4.0</td><td>52.0</td><td>6482.04298321</td><td>2324.23209701</td></tr>\n",
       "<tr><td>IC4662</td><td>17</td><td>47</td><td>8.8</td><td>-64</td><td>38</td><td>30</td><td>26.94</td><td>0.17</td><td>0.17</td><td>302.0</td><td>3.0</td><td>3.0</td><td>180.0</td><td>4985.29010643</td><td>2164.51616654</td></tr>\n",
       "<tr><td>DDO190</td><td>14</td><td>24</td><td>43.4</td><td>44</td><td>31</td><td>33</td><td>27.23</td><td>0.03</td><td>0.03</td><td>150.0</td><td>4.0</td><td>4.0</td><td>43.0</td><td>7002.6547503</td><td>2488.25031525</td></tr>\n",
       "<tr><td>KKH86</td><td>13</td><td>54</td><td>33.5</td><td>4</td><td>14</td><td>35</td><td>27.06</td><td>0.16</td><td>0.16</td><td>287.2</td><td>0.7</td><td>0.7</td><td>0.88</td><td>5310.043904</td><td>2307.96063035</td></tr>\n",
       "<tr><td>NGC4163</td><td>12</td><td>12</td><td>9.1</td><td>36</td><td>10</td><td>9</td><td>27.28</td><td>0.03</td><td>0.03</td><td>165.0</td><td>5.0</td><td>5.0</td><td>7.9</td><td>7081.24995449</td><td>2595.22219399</td></tr>\n",
       "<tr><td>DDO113</td><td>12</td><td>14</td><td>57.9</td><td>36</td><td>13</td><td>8</td><td>27.35</td><td>0.06</td><td>0.06</td><td>284.0</td><td>6.0</td><td>6.0</td><td>48.0</td><td>7310.00151787</td><td>2688.71137817</td></tr>\n",
       "</table>"
      ],
      "text/plain": [
       "<Table length=128>\n",
       "   GalaxyName    RA_h  RA_m   RA_s  ...   sigb      r_ell     ell_surf_dist \n",
       "     str16      int64 int64 float64 ... float64    float64       float64    \n",
       "--------------- ----- ----- ------- ... ------- ------------- --------------\n",
       "    *CanisMajor     7    12    35.0 ...     nan 521.726269113 -240.536834071\n",
       "SagittariusdSph    18    55    19.5 ...     nan 527.702778591 -234.311089704\n",
       "     *TucanaIII    23    56    36.0 ...     nan 525.709158084 -230.739499566\n",
       "       *DracoII    15    52    47.6 ...     nan  512.06877796  -236.35353465\n",
       "       Segue(I)    10     7     4.0 ...     nan 530.961758822 -225.278625684\n",
       "    *Reticulum2     3    35    42.1 ...     nan 530.196226133 -222.375890658\n",
       "       *CetusII     1    17    52.8 ...     nan 506.459098004 -235.751780731\n",
       "  *TriangulumII     2    13    17.4 ...     nan 490.867418822 -249.483540885\n",
       "    UrsaMajorII     8    51    30.0 ...     0.0 511.944484011 -227.392737439\n",
       "       BootesII    13    58     0.0 ...     0.0 547.723417021 -213.049015179\n",
       "            ...   ...   ...     ... ...     ...           ...            ...\n",
       "        UGC8508    13    30    44.4 ...    29.0 6416.26531639  2230.29182177\n",
       "         IC3104    12    18    46.0 ...    13.0 4130.11843522   1975.7677259\n",
       "         DDO125    12    27    40.9 ...    35.0 6479.22422933  2298.62929464\n",
       "         UGCA86     3    59    48.3 ...   860.0 4812.28828442  1959.77729339\n",
       "          DDO99    11    50    53.0 ...    52.0 6482.04298321  2324.23209701\n",
       "         IC4662    17    47     8.8 ...   180.0 4985.29010643  2164.51616654\n",
       "         DDO190    14    24    43.4 ...    43.0  7002.6547503  2488.25031525\n",
       "          KKH86    13    54    33.5 ...    0.88   5310.043904  2307.96063035\n",
       "        NGC4163    12    12     9.1 ...     7.9 7081.24995449  2595.22219399\n",
       "         DDO113    12    14    57.9 ...    48.0 7310.00151787  2688.71137817"
      ]
     },
     "execution_count": 2,
     "metadata": {},
     "output_type": "execute_result"
    }
   ],
   "source": [
    "## read in the table and print them \n",
    "oldtb = Table.read('NearbyGalaxiese_formatted_rell.dat', format='ascii')\n",
    "oldtb"
   ]
  },
  {
   "cell_type": "code",
   "execution_count": 3,
   "metadata": {},
   "outputs": [],
   "source": [
    "## this is to skip some QSOs:\n",
    "qsonumber = len(oldtb)  # the total number of QSOs\n",
    "newtb = oldtb.copy() # going to make some changes to the old/original table, \n",
    "                     # but also keep the original one to keep tracking things\n",
    "\n",
    "## say let's skip DDO190 and NGC4163\n",
    "skip_qsos = ['DDO190', 'NGC4163']\n",
    "for iqso in skip_qsos:\n",
    "    ind = newtb['GalaxyName'] == iqso ## ind is an array with True or False value \n",
    "                                         ## True is where GalaxyName matches skipped qso name\n",
    "    temp = newtb[np.logical_not(ind)] \n",
    "    newtb = temp"
   ]
  },
  {
   "cell_type": "code",
   "execution_count": 4,
   "metadata": {},
   "outputs": [
    {
     "data": {
      "text/html": [
       "&lt;Table length=126&gt;\n",
       "<table id=\"table4454693352\" class=\"table-striped table-bordered table-condensed\">\n",
       "<thead><tr><th>GalaxyName</th><th>RA_h</th><th>RA_m</th><th>RA_s</th><th>Dec_d</th><th>Dec_m</th><th>Dec_s</th><th>Dist</th><th>sig1</th><th>sig2</th><th>vh(km/s)</th><th>MHI</th><th>siga</th><th>sigb</th><th>r_ell</th><th>ell_surf_dist</th></tr></thead>\n",
       "<thead><tr><th>str16</th><th>int64</th><th>int64</th><th>float64</th><th>int64</th><th>int64</th><th>int64</th><th>float64</th><th>float64</th><th>float64</th><th>float64</th><th>float64</th><th>float64</th><th>float64</th><th>float64</th><th>float64</th></tr></thead>\n",
       "<tr><td>*CanisMajor</td><td>7</td><td>12</td><td>35.0</td><td>-27</td><td>40</td><td>0</td><td>14.29</td><td>0.3</td><td>0.3</td><td>87.0</td><td>99.9</td><td>nan</td><td>nan</td><td>521.726269113</td><td>-240.536834071</td></tr>\n",
       "<tr><td>SagittariusdSph</td><td>18</td><td>55</td><td>19.5</td><td>-30</td><td>32</td><td>43</td><td>17.1</td><td>0.15</td><td>0.15</td><td>140.0</td><td>0.0</td><td>nan</td><td>nan</td><td>527.702778591</td><td>-234.311089704</td></tr>\n",
       "<tr><td>*TucanaIII</td><td>23</td><td>56</td><td>36.0</td><td>-59</td><td>36</td><td>0</td><td>17.01</td><td>0.16</td><td>0.16</td><td>999.9</td><td>99.9</td><td>nan</td><td>nan</td><td>525.709158084</td><td>-230.739499566</td></tr>\n",
       "<tr><td>*DracoII</td><td>15</td><td>52</td><td>47.6</td><td>64</td><td>33</td><td>55</td><td>16.9</td><td>0.3</td><td>0.3</td><td>999.9</td><td>99.9</td><td>nan</td><td>nan</td><td>512.06877796</td><td>-236.35353465</td></tr>\n",
       "<tr><td>Segue(I)</td><td>10</td><td>7</td><td>4.0</td><td>16</td><td>4</td><td>55</td><td>16.8</td><td>0.2</td><td>0.2</td><td>208.5</td><td>0.0</td><td>nan</td><td>nan</td><td>530.961758822</td><td>-225.278625684</td></tr>\n",
       "<tr><td>*Reticulum2</td><td>3</td><td>35</td><td>42.1</td><td>-54</td><td>2</td><td>57</td><td>17.4</td><td>0.2</td><td>0.2</td><td>999.9</td><td>99.9</td><td>nan</td><td>nan</td><td>530.196226133</td><td>-222.375890658</td></tr>\n",
       "<tr><td>*CetusII</td><td>1</td><td>17</td><td>52.8</td><td>-17</td><td>25</td><td>12</td><td>17.38</td><td>0.19</td><td>0.19</td><td>999.9</td><td>99.9</td><td>nan</td><td>nan</td><td>506.459098004</td><td>-235.751780731</td></tr>\n",
       "<tr><td>*TriangulumII</td><td>2</td><td>13</td><td>17.4</td><td>36</td><td>10</td><td>42</td><td>17.4</td><td>0.1</td><td>0.1</td><td>999.9</td><td>99.9</td><td>nan</td><td>nan</td><td>490.867418822</td><td>-249.483540885</td></tr>\n",
       "<tr><td>UrsaMajorII</td><td>8</td><td>51</td><td>30.0</td><td>63</td><td>7</td><td>48</td><td>17.5</td><td>0.3</td><td>0.3</td><td>-116.5</td><td>1.9</td><td>1.9</td><td>0.0</td><td>511.944484011</td><td>-227.392737439</td></tr>\n",
       "<tr><td>BootesII</td><td>13</td><td>58</td><td>0.0</td><td>12</td><td>51</td><td>0</td><td>18.1</td><td>0.06</td><td>0.06</td><td>-117.0</td><td>5.2</td><td>5.2</td><td>0.0</td><td>547.723417021</td><td>-213.049015179</td></tr>\n",
       "<tr><td>...</td><td>...</td><td>...</td><td>...</td><td>...</td><td>...</td><td>...</td><td>...</td><td>...</td><td>...</td><td>...</td><td>...</td><td>...</td><td>...</td><td>...</td><td>...</td></tr>\n",
       "<tr><td>GR8</td><td>12</td><td>58</td><td>40.4</td><td>14</td><td>13</td><td>3</td><td>26.69</td><td>0.12</td><td>0.12</td><td>213.9</td><td>2.5</td><td>2.5</td><td>11.0</td><td>4827.35246805</td><td>1916.78039502</td></tr>\n",
       "<tr><td>UGC9128</td><td>14</td><td>15</td><td>56.5</td><td>23</td><td>3</td><td>19</td><td>26.8</td><td>0.04</td><td>0.04</td><td>152.0</td><td>1.0</td><td>1.0</td><td>18.0</td><td>5477.14830725</td><td>2035.91436513</td></tr>\n",
       "<tr><td>UGC8508</td><td>13</td><td>30</td><td>44.4</td><td>54</td><td>54</td><td>36</td><td>27.06</td><td>0.03</td><td>0.03</td><td>56.0</td><td>5.0</td><td>5.0</td><td>29.0</td><td>6416.26531639</td><td>2230.29182177</td></tr>\n",
       "<tr><td>IC3104</td><td>12</td><td>18</td><td>46.0</td><td>-79</td><td>43</td><td>34</td><td>26.78</td><td>0.18</td><td>0.18</td><td>429.0</td><td>4.0</td><td>4.0</td><td>13.0</td><td>4130.11843522</td><td>1975.7677259</td></tr>\n",
       "<tr><td>DDO125</td><td>12</td><td>27</td><td>40.9</td><td>43</td><td>29</td><td>44</td><td>27.06</td><td>0.05</td><td>0.05</td><td>194.9</td><td>0.2</td><td>0.2</td><td>35.0</td><td>6479.22422933</td><td>2298.62929464</td></tr>\n",
       "<tr><td>UGCA86</td><td>3</td><td>59</td><td>48.3</td><td>67</td><td>8</td><td>19</td><td>27.36</td><td>0.17</td><td>0.17</td><td>67.0</td><td>4.0</td><td>4.0</td><td>860.0</td><td>4812.28828442</td><td>1959.77729339</td></tr>\n",
       "<tr><td>DDO99</td><td>11</td><td>50</td><td>53.0</td><td>38</td><td>52</td><td>49</td><td>27.07</td><td>0.14</td><td>0.14</td><td>251.0</td><td>4.0</td><td>4.0</td><td>52.0</td><td>6482.04298321</td><td>2324.23209701</td></tr>\n",
       "<tr><td>IC4662</td><td>17</td><td>47</td><td>8.8</td><td>-64</td><td>38</td><td>30</td><td>26.94</td><td>0.17</td><td>0.17</td><td>302.0</td><td>3.0</td><td>3.0</td><td>180.0</td><td>4985.29010643</td><td>2164.51616654</td></tr>\n",
       "<tr><td>KKH86</td><td>13</td><td>54</td><td>33.5</td><td>4</td><td>14</td><td>35</td><td>27.06</td><td>0.16</td><td>0.16</td><td>287.2</td><td>0.7</td><td>0.7</td><td>0.88</td><td>5310.043904</td><td>2307.96063035</td></tr>\n",
       "<tr><td>DDO113</td><td>12</td><td>14</td><td>57.9</td><td>36</td><td>13</td><td>8</td><td>27.35</td><td>0.06</td><td>0.06</td><td>284.0</td><td>6.0</td><td>6.0</td><td>48.0</td><td>7310.00151787</td><td>2688.71137817</td></tr>\n",
       "</table>"
      ],
      "text/plain": [
       "<Table length=126>\n",
       "   GalaxyName    RA_h  RA_m   RA_s  ...   sigb      r_ell     ell_surf_dist \n",
       "     str16      int64 int64 float64 ... float64    float64       float64    \n",
       "--------------- ----- ----- ------- ... ------- ------------- --------------\n",
       "    *CanisMajor     7    12    35.0 ...     nan 521.726269113 -240.536834071\n",
       "SagittariusdSph    18    55    19.5 ...     nan 527.702778591 -234.311089704\n",
       "     *TucanaIII    23    56    36.0 ...     nan 525.709158084 -230.739499566\n",
       "       *DracoII    15    52    47.6 ...     nan  512.06877796  -236.35353465\n",
       "       Segue(I)    10     7     4.0 ...     nan 530.961758822 -225.278625684\n",
       "    *Reticulum2     3    35    42.1 ...     nan 530.196226133 -222.375890658\n",
       "       *CetusII     1    17    52.8 ...     nan 506.459098004 -235.751780731\n",
       "  *TriangulumII     2    13    17.4 ...     nan 490.867418822 -249.483540885\n",
       "    UrsaMajorII     8    51    30.0 ...     0.0 511.944484011 -227.392737439\n",
       "       BootesII    13    58     0.0 ...     0.0 547.723417021 -213.049015179\n",
       "            ...   ...   ...     ... ...     ...           ...            ...\n",
       "            GR8    12    58    40.4 ...    11.0 4827.35246805  1916.78039502\n",
       "        UGC9128    14    15    56.5 ...    18.0 5477.14830725  2035.91436513\n",
       "        UGC8508    13    30    44.4 ...    29.0 6416.26531639  2230.29182177\n",
       "         IC3104    12    18    46.0 ...    13.0 4130.11843522   1975.7677259\n",
       "         DDO125    12    27    40.9 ...    35.0 6479.22422933  2298.62929464\n",
       "         UGCA86     3    59    48.3 ...   860.0 4812.28828442  1959.77729339\n",
       "          DDO99    11    50    53.0 ...    52.0 6482.04298321  2324.23209701\n",
       "         IC4662    17    47     8.8 ...   180.0 4985.29010643  2164.51616654\n",
       "          KKH86    13    54    33.5 ...    0.88   5310.043904  2307.96063035\n",
       "         DDO113    12    14    57.9 ...    48.0 7310.00151787  2688.71137817"
      ]
     },
     "execution_count": 4,
     "metadata": {},
     "output_type": "execute_result"
    }
   ],
   "source": [
    "## now this table should not have DDO190 and NGC4163 \n",
    "newtb"
   ]
  },
  {
   "cell_type": "code",
   "execution_count": 5,
   "metadata": {},
   "outputs": [],
   "source": [
    "## select positive and negative ell_surf_dist from the new\n",
    "\n",
    "ind_neg = np.any([newtb['ell_surf_dist']<=0.0], axis=0)\n",
    "ind_pos = np.any([newtb['ell_surf_dist']>0.0], axis=0)\n",
    "\n",
    "## dist\n",
    "absellneg = np.fabs(newtb['ell_surf_dist'][ind_neg])\n",
    "logabsellneg = np.log10(absellneg)\n",
    "logellpos = np.log10(newtb['ell_surf_dist'][ind_pos])\n",
    "\n",
    "## mass \n",
    "MHIneg = newtb['MHI'][ind_neg]*1e6 + 1  ## note this '+1' is not correct, but is negligible \n",
    "logMHIneg = np.log10(MHIneg)            ## the +1 is to avoid log error on zero MHI values \n",
    "\n",
    "MHIpos = newtb['MHI'][ind_pos]*1e6 + 1\n",
    "logMHIpos = np.log10(MHIpos)\n",
    "\n",
    "## there is an warning because we take the log of all 0 values "
   ]
  },
  {
   "cell_type": "code",
   "execution_count": 15,
   "metadata": {},
   "outputs": [
    {
     "data": {
      "image/png": "[encoded data removed]",
      "text/plain": [
       "<matplotlib.figure.Figure at 0x109877748>"
      ]
     },
     "metadata": {},
     "output_type": "display_data"
    }
   ],
   "source": [
    "## make two plots for pos and neg separately, and piece them together\n",
    "## note that sometimes x/y step sizes may not match well \n",
    "fig = plt.figure(figsize=(8, 5))\n",
    "axneg = fig.add_axes([0.1, 0.1, 0.4, 0.8])\n",
    "axneg.scatter(logabsellneg, logMHIneg, s=10, marker='s', color='r', alpha=0.5) ## alpha is for transpancy\n",
    "axneg.set_xlim(4, 0)\n",
    "axneg.set_ylabel('logMHI', fontsize=12)\n",
    "\n",
    "axpos = fig.add_axes([0.5, 0.1, 0.4, 0.8])\n",
    "axpos.scatter(logellpos, logMHIpos, s=20, marker='o', color='b', alpha=0.6)\n",
    "axpos.set_xlim(0, 4)\n",
    "axpos.set_yticklabels([])\n",
    "\n",
    "for ax in [axneg, axpos]:  ## these setup are the same for the neg and pos, so do them together\n",
    "    ax.set_ylim(-0.5, 8.5)\n",
    "    ax.grid('on', linestyle='--')\n",
    "    ax.set_xlabel('log ell_surf_dist', fontsize=12)"
   ]
  },
  {
   "cell_type": "code",
   "execution_count": null,
   "metadata": {
    "collapsed": true
   },
   "outputs": [],
   "source": []
  }
 ],
 "metadata": {
  "kernelspec": {
   "display_name": "Python [conda root]",
   "language": "python",
   "name": "conda-root-py"
  },
  "language_info": {
   "codemirror_mode": {
    "name": "ipython",
    "version": 3
   },
   "file_extension": ".py",
   "mimetype": "text/x-python",
   "name": "python",
   "nbconvert_exporter": "python",
   "pygments_lexer": "ipython3",
   "version": "3.5.3"
  }
 },
 "nbformat": 4,
 "nbformat_minor": 2
}
