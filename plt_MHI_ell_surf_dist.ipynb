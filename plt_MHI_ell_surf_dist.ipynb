{
 "cells": [
  {
   "cell_type": "code",
   "execution_count": 4,
   "metadata": {},
   "outputs": [
    {
     "ename": "ImportError",
     "evalue": "No module named matplotlib",
     "output_type": "error",
     "traceback": [
      "\u001b[0;31m---------------------------------------------------------------------------\u001b[0m",
      "\u001b[0;31mImportError\u001b[0m                               Traceback (most recent call last)",
      "\u001b[0;32m<ipython-input-4-49101d5acf60>\u001b[0m in \u001b[0;36m<module>\u001b[0;34m()\u001b[0m\n\u001b[0;32m----> 1\u001b[0;31m \u001b[0mget_ipython\u001b[0m\u001b[0;34m(\u001b[0m\u001b[0;34m)\u001b[0m\u001b[0;34m.\u001b[0m\u001b[0mmagic\u001b[0m\u001b[0;34m(\u001b[0m\u001b[0;34mu'matplotlib inline'\u001b[0m\u001b[0;34m)\u001b[0m\u001b[0;34m\u001b[0m\u001b[0m\n\u001b[0m\u001b[1;32m      2\u001b[0m \u001b[0;32mimport\u001b[0m \u001b[0mnumpy\u001b[0m \u001b[0;32mas\u001b[0m \u001b[0mnp\u001b[0m\u001b[0;34m\u001b[0m\u001b[0m\n\u001b[1;32m      3\u001b[0m \u001b[0;32mfrom\u001b[0m \u001b[0mastropy\u001b[0m\u001b[0;34m.\u001b[0m\u001b[0mtable\u001b[0m \u001b[0;32mimport\u001b[0m \u001b[0mTable\u001b[0m\u001b[0;34m\u001b[0m\u001b[0m\n\u001b[1;32m      4\u001b[0m \u001b[0;32mimport\u001b[0m \u001b[0mmatplotlib\u001b[0m\u001b[0;34m.\u001b[0m\u001b[0mpyplot\u001b[0m \u001b[0;32mas\u001b[0m \u001b[0mplt\u001b[0m\u001b[0;34m\u001b[0m\u001b[0m\n",
      "\u001b[0;32m/Users/janagrc/.pyenv/versions/ipython2/lib/python2.7/site-packages/IPython/core/interactiveshell.pyc\u001b[0m in \u001b[0;36mmagic\u001b[0;34m(self, arg_s)\u001b[0m\n\u001b[1;32m   2158\u001b[0m         \u001b[0mmagic_name\u001b[0m\u001b[0;34m,\u001b[0m \u001b[0m_\u001b[0m\u001b[0;34m,\u001b[0m \u001b[0mmagic_arg_s\u001b[0m \u001b[0;34m=\u001b[0m \u001b[0marg_s\u001b[0m\u001b[0;34m.\u001b[0m\u001b[0mpartition\u001b[0m\u001b[0;34m(\u001b[0m\u001b[0;34m' '\u001b[0m\u001b[0;34m)\u001b[0m\u001b[0;34m\u001b[0m\u001b[0m\n\u001b[1;32m   2159\u001b[0m         \u001b[0mmagic_name\u001b[0m \u001b[0;34m=\u001b[0m \u001b[0mmagic_name\u001b[0m\u001b[0;34m.\u001b[0m\u001b[0mlstrip\u001b[0m\u001b[0;34m(\u001b[0m\u001b[0mprefilter\u001b[0m\u001b[0;34m.\u001b[0m\u001b[0mESC_MAGIC\u001b[0m\u001b[0;34m)\u001b[0m\u001b[0;34m\u001b[0m\u001b[0m\n\u001b[0;32m-> 2160\u001b[0;31m         \u001b[0;32mreturn\u001b[0m \u001b[0mself\u001b[0m\u001b[0;34m.\u001b[0m\u001b[0mrun_line_magic\u001b[0m\u001b[0;34m(\u001b[0m\u001b[0mmagic_name\u001b[0m\u001b[0;34m,\u001b[0m \u001b[0mmagic_arg_s\u001b[0m\u001b[0;34m)\u001b[0m\u001b[0;34m\u001b[0m\u001b[0m\n\u001b[0m\u001b[1;32m   2161\u001b[0m \u001b[0;34m\u001b[0m\u001b[0m\n\u001b[1;32m   2162\u001b[0m     \u001b[0;31m#-------------------------------------------------------------------------\u001b[0m\u001b[0;34m\u001b[0m\u001b[0;34m\u001b[0m\u001b[0m\n",
      "\u001b[0;32m/Users/janagrc/.pyenv/versions/ipython2/lib/python2.7/site-packages/IPython/core/interactiveshell.pyc\u001b[0m in \u001b[0;36mrun_line_magic\u001b[0;34m(self, magic_name, line)\u001b[0m\n\u001b[1;32m   2079\u001b[0m                 \u001b[0mkwargs\u001b[0m\u001b[0;34m[\u001b[0m\u001b[0;34m'local_ns'\u001b[0m\u001b[0;34m]\u001b[0m \u001b[0;34m=\u001b[0m \u001b[0msys\u001b[0m\u001b[0;34m.\u001b[0m\u001b[0m_getframe\u001b[0m\u001b[0;34m(\u001b[0m\u001b[0mstack_depth\u001b[0m\u001b[0;34m)\u001b[0m\u001b[0;34m.\u001b[0m\u001b[0mf_locals\u001b[0m\u001b[0;34m\u001b[0m\u001b[0m\n\u001b[1;32m   2080\u001b[0m             \u001b[0;32mwith\u001b[0m \u001b[0mself\u001b[0m\u001b[0;34m.\u001b[0m\u001b[0mbuiltin_trap\u001b[0m\u001b[0;34m:\u001b[0m\u001b[0;34m\u001b[0m\u001b[0m\n\u001b[0;32m-> 2081\u001b[0;31m                 \u001b[0mresult\u001b[0m \u001b[0;34m=\u001b[0m \u001b[0mfn\u001b[0m\u001b[0;34m(\u001b[0m\u001b[0;34m*\u001b[0m\u001b[0margs\u001b[0m\u001b[0;34m,\u001b[0m\u001b[0;34m**\u001b[0m\u001b[0mkwargs\u001b[0m\u001b[0;34m)\u001b[0m\u001b[0;34m\u001b[0m\u001b[0m\n\u001b[0m\u001b[1;32m   2082\u001b[0m             \u001b[0;32mreturn\u001b[0m \u001b[0mresult\u001b[0m\u001b[0;34m\u001b[0m\u001b[0m\n\u001b[1;32m   2083\u001b[0m \u001b[0;34m\u001b[0m\u001b[0m\n",
      "\u001b[0;32m<decorator-gen-105>\u001b[0m in \u001b[0;36mmatplotlib\u001b[0;34m(self, line)\u001b[0m\n",
      "\u001b[0;32m/Users/janagrc/.pyenv/versions/ipython2/lib/python2.7/site-packages/IPython/core/magic.pyc\u001b[0m in \u001b[0;36m<lambda>\u001b[0;34m(f, *a, **k)\u001b[0m\n\u001b[1;32m    186\u001b[0m     \u001b[0;31m# but it's overkill for just that one bit of state.\u001b[0m\u001b[0;34m\u001b[0m\u001b[0;34m\u001b[0m\u001b[0m\n\u001b[1;32m    187\u001b[0m     \u001b[0;32mdef\u001b[0m \u001b[0mmagic_deco\u001b[0m\u001b[0;34m(\u001b[0m\u001b[0marg\u001b[0m\u001b[0;34m)\u001b[0m\u001b[0;34m:\u001b[0m\u001b[0;34m\u001b[0m\u001b[0m\n\u001b[0;32m--> 188\u001b[0;31m         \u001b[0mcall\u001b[0m \u001b[0;34m=\u001b[0m \u001b[0;32mlambda\u001b[0m \u001b[0mf\u001b[0m\u001b[0;34m,\u001b[0m \u001b[0;34m*\u001b[0m\u001b[0ma\u001b[0m\u001b[0;34m,\u001b[0m \u001b[0;34m**\u001b[0m\u001b[0mk\u001b[0m\u001b[0;34m:\u001b[0m \u001b[0mf\u001b[0m\u001b[0;34m(\u001b[0m\u001b[0;34m*\u001b[0m\u001b[0ma\u001b[0m\u001b[0;34m,\u001b[0m \u001b[0;34m**\u001b[0m\u001b[0mk\u001b[0m\u001b[0;34m)\u001b[0m\u001b[0;34m\u001b[0m\u001b[0m\n\u001b[0m\u001b[1;32m    189\u001b[0m \u001b[0;34m\u001b[0m\u001b[0m\n\u001b[1;32m    190\u001b[0m         \u001b[0;32mif\u001b[0m \u001b[0mcallable\u001b[0m\u001b[0;34m(\u001b[0m\u001b[0marg\u001b[0m\u001b[0;34m)\u001b[0m\u001b[0;34m:\u001b[0m\u001b[0;34m\u001b[0m\u001b[0m\n",
      "\u001b[0;32m/Users/janagrc/.pyenv/versions/ipython2/lib/python2.7/site-packages/IPython/core/magics/pylab.pyc\u001b[0m in \u001b[0;36mmatplotlib\u001b[0;34m(self, line)\u001b[0m\n\u001b[1;32m     98\u001b[0m             \u001b[0;32mprint\u001b[0m\u001b[0;34m(\u001b[0m\u001b[0;34m\"Available matplotlib backends: %s\"\u001b[0m \u001b[0;34m%\u001b[0m \u001b[0mbackends_list\u001b[0m\u001b[0;34m)\u001b[0m\u001b[0;34m\u001b[0m\u001b[0m\n\u001b[1;32m     99\u001b[0m         \u001b[0;32melse\u001b[0m\u001b[0;34m:\u001b[0m\u001b[0;34m\u001b[0m\u001b[0m\n\u001b[0;32m--> 100\u001b[0;31m             \u001b[0mgui\u001b[0m\u001b[0;34m,\u001b[0m \u001b[0mbackend\u001b[0m \u001b[0;34m=\u001b[0m \u001b[0mself\u001b[0m\u001b[0;34m.\u001b[0m\u001b[0mshell\u001b[0m\u001b[0;34m.\u001b[0m\u001b[0menable_matplotlib\u001b[0m\u001b[0;34m(\u001b[0m\u001b[0margs\u001b[0m\u001b[0;34m.\u001b[0m\u001b[0mgui\u001b[0m\u001b[0;34m)\u001b[0m\u001b[0;34m\u001b[0m\u001b[0m\n\u001b[0m\u001b[1;32m    101\u001b[0m             \u001b[0mself\u001b[0m\u001b[0;34m.\u001b[0m\u001b[0m_show_matplotlib_backend\u001b[0m\u001b[0;34m(\u001b[0m\u001b[0margs\u001b[0m\u001b[0;34m.\u001b[0m\u001b[0mgui\u001b[0m\u001b[0;34m,\u001b[0m \u001b[0mbackend\u001b[0m\u001b[0;34m)\u001b[0m\u001b[0;34m\u001b[0m\u001b[0m\n\u001b[1;32m    102\u001b[0m \u001b[0;34m\u001b[0m\u001b[0m\n",
      "\u001b[0;32m/Users/janagrc/.pyenv/versions/ipython2/lib/python2.7/site-packages/IPython/core/interactiveshell.pyc\u001b[0m in \u001b[0;36menable_matplotlib\u001b[0;34m(self, gui)\u001b[0m\n\u001b[1;32m   2936\u001b[0m         \"\"\"\n\u001b[1;32m   2937\u001b[0m         \u001b[0;32mfrom\u001b[0m \u001b[0mIPython\u001b[0m\u001b[0;34m.\u001b[0m\u001b[0mcore\u001b[0m \u001b[0;32mimport\u001b[0m \u001b[0mpylabtools\u001b[0m \u001b[0;32mas\u001b[0m \u001b[0mpt\u001b[0m\u001b[0;34m\u001b[0m\u001b[0m\n\u001b[0;32m-> 2938\u001b[0;31m         \u001b[0mgui\u001b[0m\u001b[0;34m,\u001b[0m \u001b[0mbackend\u001b[0m \u001b[0;34m=\u001b[0m \u001b[0mpt\u001b[0m\u001b[0;34m.\u001b[0m\u001b[0mfind_gui_and_backend\u001b[0m\u001b[0;34m(\u001b[0m\u001b[0mgui\u001b[0m\u001b[0;34m,\u001b[0m \u001b[0mself\u001b[0m\u001b[0;34m.\u001b[0m\u001b[0mpylab_gui_select\u001b[0m\u001b[0;34m)\u001b[0m\u001b[0;34m\u001b[0m\u001b[0m\n\u001b[0m\u001b[1;32m   2939\u001b[0m \u001b[0;34m\u001b[0m\u001b[0m\n\u001b[1;32m   2940\u001b[0m         \u001b[0;32mif\u001b[0m \u001b[0mgui\u001b[0m \u001b[0;34m!=\u001b[0m \u001b[0;34m'inline'\u001b[0m\u001b[0;34m:\u001b[0m\u001b[0;34m\u001b[0m\u001b[0m\n",
      "\u001b[0;32m/Users/janagrc/.pyenv/versions/ipython2/lib/python2.7/site-packages/IPython/core/pylabtools.pyc\u001b[0m in \u001b[0;36mfind_gui_and_backend\u001b[0;34m(gui, gui_select)\u001b[0m\n\u001b[1;32m    271\u001b[0m     \"\"\"\n\u001b[1;32m    272\u001b[0m \u001b[0;34m\u001b[0m\u001b[0m\n\u001b[0;32m--> 273\u001b[0;31m     \u001b[0;32mimport\u001b[0m \u001b[0mmatplotlib\u001b[0m\u001b[0;34m\u001b[0m\u001b[0m\n\u001b[0m\u001b[1;32m    274\u001b[0m \u001b[0;34m\u001b[0m\u001b[0m\n\u001b[1;32m    275\u001b[0m     \u001b[0;32mif\u001b[0m \u001b[0mgui\u001b[0m \u001b[0;32mand\u001b[0m \u001b[0mgui\u001b[0m \u001b[0;34m!=\u001b[0m \u001b[0;34m'auto'\u001b[0m\u001b[0;34m:\u001b[0m\u001b[0;34m\u001b[0m\u001b[0m\n",
      "\u001b[0;31mImportError\u001b[0m: No module named matplotlib"
     ]
    }
   ],
   "source": [
    "%matplotlib inline\n",
    "import numpy as np\n",
    "from astropy.table import Table\n",
    "import matplotlib.pyplot as plt"
   ]
  },
  {
   "cell_type": "code",
   "execution_count": 2,
   "metadata": {},
   "outputs": [
    {
     "ename": "NameError",
     "evalue": "name 'Table' is not defined",
     "output_type": "error",
     "traceback": [
      "\u001b[0;31m---------------------------------------------------------------------------\u001b[0m",
      "\u001b[0;31mNameError\u001b[0m                                 Traceback (most recent call last)",
      "\u001b[0;32m<ipython-input-2-3c193bb919b8>\u001b[0m in \u001b[0;36m<module>\u001b[0;34m()\u001b[0m\n\u001b[1;32m      1\u001b[0m \u001b[0;31m## read in the table and print them\u001b[0m\u001b[0;34m\u001b[0m\u001b[0;34m\u001b[0m\u001b[0m\n\u001b[0;32m----> 2\u001b[0;31m \u001b[0moldtb\u001b[0m \u001b[0;34m=\u001b[0m \u001b[0mTable\u001b[0m\u001b[0;34m.\u001b[0m\u001b[0mread\u001b[0m\u001b[0;34m(\u001b[0m\u001b[0;34m'NearbyGalaxiese_formatted_rell.dat'\u001b[0m\u001b[0;34m,\u001b[0m \u001b[0mformat\u001b[0m\u001b[0;34m=\u001b[0m\u001b[0;34m'ascii'\u001b[0m\u001b[0;34m)\u001b[0m\u001b[0;34m\u001b[0m\u001b[0m\n\u001b[0m\u001b[1;32m      3\u001b[0m \u001b[0moldtb\u001b[0m\u001b[0;34m\u001b[0m\u001b[0m\n",
      "\u001b[0;31mNameError\u001b[0m: name 'Table' is not defined"
     ]
    }
   ],
   "source": [
    "## read in the table and print them \n",
    "oldtb = Table.read('NearbyGalaxiese_formatted_rell.dat', format='ascii')\n",
    "oldtb"
   ]
  },
  {
   "cell_type": "code",
   "execution_count": 8,
   "metadata": {
    "collapsed": true
   },
   "outputs": [],
   "source": [
    "## this is to skip some QSOs:\n",
    "qsonumber = len(oldtb)  # the total number of QSOs\n",
    "newtb = oldtb.copy() # going to make some changes to the old/original table, \n",
    "                     # but also keep the original one to keep tracking things\n",
    "\n",
    "## skip line, prefer to just have mass scaled plot, but fluffy stream and  \n",
    "skip_qsos = ['*CanisMajor', 'LMC', 'SMC']\n",
    "for iqso in skip_qsos:\n",
    "    ind = newtb['GalaxyName'] == iqso ## ind is an array with True or False value \n",
    "                                         ## True is where GalaxyName matches skipped qso name\n",
    "    temp = newtb[np.logical_not(ind)] \n",
    "    newtb = temp"
   ]
  },
  {
   "cell_type": "code",
   "execution_count": 9,
   "metadata": {},
   "outputs": [
    {
     "data": {
      "text/html": [
       "&lt;Table length=125&gt;\n",
       "<table id=\"table4709549200\" class=\"table-striped table-bordered table-condensed\">\n",
       "<thead><tr><th>GalaxyName</th><th>RA_h</th><th>RA_m</th><th>RA_s</th><th>Dec_d</th><th>Dec_m</th><th>Dec_s</th><th>Dist</th><th>sig1</th><th>sig2</th><th>vh(km/s)</th><th>MHI</th><th>r_ell</th><th>ell_surf_dist</th></tr></thead>\n",
       "<thead><tr><th>str16</th><th>int64</th><th>int64</th><th>float64</th><th>int64</th><th>int64</th><th>int64</th><th>float64</th><th>float64</th><th>float64</th><th>float64</th><th>float64</th><th>float64</th><th>float64</th></tr></thead>\n",
       "<tr><td>SagittariusdSph</td><td>18</td><td>55</td><td>19.5</td><td>-30</td><td>32</td><td>43</td><td>17.1</td><td>0.15</td><td>0.15</td><td>140.0</td><td>0.0</td><td>527.702778591</td><td>-234.311089704</td></tr>\n",
       "<tr><td>*TucanaIII</td><td>23</td><td>56</td><td>36.0</td><td>-59</td><td>36</td><td>0</td><td>17.01</td><td>0.16</td><td>0.16</td><td>999.9</td><td>0.0</td><td>525.709158084</td><td>-230.739499566</td></tr>\n",
       "<tr><td>*DracoII</td><td>15</td><td>52</td><td>47.6</td><td>64</td><td>33</td><td>55</td><td>16.9</td><td>0.3</td><td>0.3</td><td>999.9</td><td>0.0</td><td>512.06877796</td><td>-236.35353465</td></tr>\n",
       "<tr><td>Segue(I)</td><td>10</td><td>7</td><td>4.0</td><td>16</td><td>4</td><td>55</td><td>16.8</td><td>0.2</td><td>0.2</td><td>208.5</td><td>0.0</td><td>530.961758822</td><td>-225.278625684</td></tr>\n",
       "<tr><td>*Reticulum2</td><td>3</td><td>35</td><td>42.1</td><td>-54</td><td>2</td><td>57</td><td>17.4</td><td>0.2</td><td>0.2</td><td>999.9</td><td>0.0</td><td>530.196226133</td><td>-222.375890658</td></tr>\n",
       "<tr><td>*CetusII</td><td>1</td><td>17</td><td>52.8</td><td>-17</td><td>25</td><td>12</td><td>17.38</td><td>0.19</td><td>0.19</td><td>999.9</td><td>0.0</td><td>506.459098004</td><td>-235.751780731</td></tr>\n",
       "<tr><td>*TriangulumII</td><td>2</td><td>13</td><td>17.4</td><td>36</td><td>10</td><td>42</td><td>17.4</td><td>0.1</td><td>0.1</td><td>999.9</td><td>0.0</td><td>490.867418822</td><td>-249.483540885</td></tr>\n",
       "<tr><td>UrsaMajorII</td><td>8</td><td>51</td><td>30.0</td><td>63</td><td>7</td><td>48</td><td>17.5</td><td>0.3</td><td>0.3</td><td>-116.5</td><td>0.0</td><td>511.944484011</td><td>-227.392737439</td></tr>\n",
       "<tr><td>BootesII</td><td>13</td><td>58</td><td>0.0</td><td>12</td><td>51</td><td>0</td><td>18.1</td><td>0.06</td><td>0.06</td><td>-117.0</td><td>0.0</td><td>547.723417021</td><td>-213.049015179</td></tr>\n",
       "<tr><td>SegueII</td><td>2</td><td>19</td><td>16.0</td><td>20</td><td>10</td><td>31</td><td>17.7</td><td>0.1</td><td>0.1</td><td>-39.2</td><td>0.0</td><td>490.715442636</td><td>-244.595971071</td></tr>\n",
       "<tr><td>...</td><td>...</td><td>...</td><td>...</td><td>...</td><td>...</td><td>...</td><td>...</td><td>...</td><td>...</td><td>...</td><td>...</td><td>...</td><td>...</td></tr>\n",
       "<tr><td>UGC8508</td><td>13</td><td>30</td><td>44.4</td><td>54</td><td>54</td><td>36</td><td>27.06</td><td>0.03</td><td>0.03</td><td>56.0</td><td>29.0</td><td>6416.26531639</td><td>2230.29182177</td></tr>\n",
       "<tr><td>IC3104</td><td>12</td><td>18</td><td>46.0</td><td>-79</td><td>43</td><td>34</td><td>26.78</td><td>0.18</td><td>0.18</td><td>429.0</td><td>13.0</td><td>4130.11843522</td><td>1975.7677259</td></tr>\n",
       "<tr><td>DDO125</td><td>12</td><td>27</td><td>40.9</td><td>43</td><td>29</td><td>44</td><td>27.06</td><td>0.05</td><td>0.05</td><td>194.9</td><td>35.0</td><td>6479.22422933</td><td>2298.62929464</td></tr>\n",
       "<tr><td>UGCA86</td><td>3</td><td>59</td><td>48.3</td><td>67</td><td>8</td><td>19</td><td>27.36</td><td>0.17</td><td>0.17</td><td>67.0</td><td>860.0</td><td>4812.28828442</td><td>1959.77729339</td></tr>\n",
       "<tr><td>DDO99</td><td>11</td><td>50</td><td>53.0</td><td>38</td><td>52</td><td>49</td><td>27.07</td><td>0.14</td><td>0.14</td><td>251.0</td><td>52.0</td><td>6482.04298321</td><td>2324.23209701</td></tr>\n",
       "<tr><td>IC4662</td><td>17</td><td>47</td><td>8.8</td><td>-64</td><td>38</td><td>30</td><td>26.94</td><td>0.17</td><td>0.17</td><td>302.0</td><td>180.0</td><td>4985.29010643</td><td>2164.51616654</td></tr>\n",
       "<tr><td>DDO190</td><td>14</td><td>24</td><td>43.4</td><td>44</td><td>31</td><td>33</td><td>27.23</td><td>0.03</td><td>0.03</td><td>150.0</td><td>43.0</td><td>7002.6547503</td><td>2488.25031525</td></tr>\n",
       "<tr><td>KKH86</td><td>13</td><td>54</td><td>33.5</td><td>4</td><td>14</td><td>35</td><td>27.06</td><td>0.16</td><td>0.16</td><td>287.2</td><td>0.88</td><td>5310.043904</td><td>2307.96063035</td></tr>\n",
       "<tr><td>NGC4163</td><td>12</td><td>12</td><td>9.1</td><td>36</td><td>10</td><td>9</td><td>27.28</td><td>0.03</td><td>0.03</td><td>165.0</td><td>7.9</td><td>7081.24995449</td><td>2595.22219399</td></tr>\n",
       "<tr><td>DDO113</td><td>12</td><td>14</td><td>57.9</td><td>36</td><td>13</td><td>8</td><td>27.35</td><td>0.06</td><td>0.06</td><td>284.0</td><td>48.0</td><td>7310.00151787</td><td>2688.71137817</td></tr>\n",
       "</table>"
      ],
      "text/plain": [
       "<Table length=125>\n",
       "   GalaxyName    RA_h  RA_m   RA_s  ...   MHI       r_ell     ell_surf_dist \n",
       "     str16      int64 int64 float64 ... float64    float64       float64    \n",
       "--------------- ----- ----- ------- ... ------- ------------- --------------\n",
       "SagittariusdSph    18    55    19.5 ...     0.0 527.702778591 -234.311089704\n",
       "     *TucanaIII    23    56    36.0 ...     0.0 525.709158084 -230.739499566\n",
       "       *DracoII    15    52    47.6 ...     0.0  512.06877796  -236.35353465\n",
       "       Segue(I)    10     7     4.0 ...     0.0 530.961758822 -225.278625684\n",
       "    *Reticulum2     3    35    42.1 ...     0.0 530.196226133 -222.375890658\n",
       "       *CetusII     1    17    52.8 ...     0.0 506.459098004 -235.751780731\n",
       "  *TriangulumII     2    13    17.4 ...     0.0 490.867418822 -249.483540885\n",
       "    UrsaMajorII     8    51    30.0 ...     0.0 511.944484011 -227.392737439\n",
       "       BootesII    13    58     0.0 ...     0.0 547.723417021 -213.049015179\n",
       "        SegueII     2    19    16.0 ...     0.0 490.715442636 -244.595971071\n",
       "            ...   ...   ...     ... ...     ...           ...            ...\n",
       "        UGC8508    13    30    44.4 ...    29.0 6416.26531639  2230.29182177\n",
       "         IC3104    12    18    46.0 ...    13.0 4130.11843522   1975.7677259\n",
       "         DDO125    12    27    40.9 ...    35.0 6479.22422933  2298.62929464\n",
       "         UGCA86     3    59    48.3 ...   860.0 4812.28828442  1959.77729339\n",
       "          DDO99    11    50    53.0 ...    52.0 6482.04298321  2324.23209701\n",
       "         IC4662    17    47     8.8 ...   180.0 4985.29010643  2164.51616654\n",
       "         DDO190    14    24    43.4 ...    43.0  7002.6547503  2488.25031525\n",
       "          KKH86    13    54    33.5 ...    0.88   5310.043904  2307.96063035\n",
       "        NGC4163    12    12     9.1 ...     7.9 7081.24995449  2595.22219399\n",
       "         DDO113    12    14    57.9 ...    48.0 7310.00151787  2688.71137817"
      ]
     },
     "execution_count": 9,
     "metadata": {},
     "output_type": "execute_result"
    }
   ],
   "source": [
    "## now this table should not have the skipped galaxies \n",
    "newtb"
   ]
  },
  {
   "cell_type": "code",
   "execution_count": 23,
   "metadata": {},
   "outputs": [
    {
     "name": "stdout",
     "output_type": "stream",
     "text": [
      "44\n"
     ]
    }
   ],
   "source": [
    "## select positive and negative ell_surf_dist from the new\n",
    "\n",
    "ind_neg = np.any([newtb['ell_surf_dist']<=0.0], axis=0)\n",
    "ind_pos = np.any([newtb['ell_surf_dist']>0.0], axis=0)\n",
    "\n",
    "## dist\n",
    "absellneg = np.fabs(newtb['ell_surf_dist'][ind_neg])\n",
    "logabsellneg = np.log10(absellneg)\n",
    "logellpos = np.log10(newtb['ell_surf_dist'][ind_pos])\n",
    "\n",
    "## mass \n",
    "MHIneg = newtb['MHI'][ind_neg]*1e6 + 1  ## note this '+1' is not correct, but is negligible \n",
    "logMHIneg = np.log10(MHIneg)            ## the +1 is to avoid log error on zero MHI values \n",
    "\n",
    "MHIpos = newtb['MHI'][ind_pos]*1e6 + 1\n",
    "logMHIpos = np.log10(MHIpos)\n",
    "\n",
    "## there is an warning because we take the log of all 0 values \n",
    "#print(logabsellneg)\n",
    "print MHIpos.size"
   ]
  },
  {
   "cell_type": "code",
   "execution_count": 6,
   "metadata": {},
   "outputs": [
    {
     "ename": "IndentationError",
     "evalue": "unindent does not match any outer indentation level (<ipython-input-6-801a208cc635>, line 6)",
     "output_type": "error",
     "traceback": [
      "\u001b[0;36m  File \u001b[0;32m\"<ipython-input-6-801a208cc635>\"\u001b[0;36m, line \u001b[0;32m6\u001b[0m\n\u001b[0;31m    else:\u001b[0m\n\u001b[0m          ^\u001b[0m\n\u001b[0;31mIndentationError\u001b[0m\u001b[0;31m:\u001b[0m unindent does not match any outer indentation level\n"
     ]
    }
   ],
   "source": [
    "objname = 'LGS3'\n",
    "for i, iname in enumerate(newtb['GalaxyName']):\n",
    "    if iname == objname:\n",
    "           find_it = True\n",
    "           break \n",
    "       else: \n",
    "           find_it = False\n",
    "\n",
    "   if find_it == True:\n",
    "       dist = float(newtb[‘column looking for'][i])\n",
    "       return dist\n",
    "\n",
    "dist(objname)\n"
   ]
  },
  {
   "cell_type": "code",
   "execution_count": 17,
   "metadata": {},
   "outputs": [
    {
     "data": {
      "image/png": "[encoded data removed]",
      "text/plain": [
       "<matplotlib.figure.Figure at 0x11cacef10>"
      ]
     },
     "metadata": {},
     "output_type": "display_data"
    }
   ],
   "source": [
    "## make two plots for pos and neg separately, and piece them together\n",
    "## note that sometimes x/y step sizes may not match well \n",
    "fig = plt.figure(figsize=(8, 5))\n",
    "axneg = fig.add_axes([0.1, 0.1, 0.4, 0.8])\n",
    "axneg.scatter(logabsellneg, logMHIneg, s=8, marker='o', color='b', alpha=0.6) ## alpha is for transpancy\n",
    "axneg.set_xlim(2.5, 1.0)\n",
    "axneg.set_ylabel('log(M_HI)', fontsize=12)\n",
    "\n",
    "axpos = fig.add_axes([0.5, 0.1, 0.4, 0.8])\n",
    "axpos.scatter(logellpos, logMHIpos, s=10, marker='o', color='b', alpha=0.6)\n",
    "axpos.set_xlim(1.0, 3.5)\n",
    "axpos.set_yticklabels([])\n",
    "\n",
    "for ax in [axneg]:  ## these setup are the same for the neg and pos, so do them together\n",
    "    ax.set_ylim(-0.5, 8.5)\n",
    "    ax.grid('on', linestyle='--')\n",
    "    ax.set_xlabel('log(-LG Distance)', fontsize=12)\n",
    "    \n",
    "for ax in [axpos]:  ## these setup are the same for the neg and pos, so do them together\n",
    "    ax.set_ylim(-0.5, 8.5)\n",
    "    ax.grid('on', linestyle='--')\n",
    "    ax.set_xlabel('log(+LG Distance)', fontsize=12)\n",
    "    \n",
    "plt.savefig('LGsurf.pdf')"
   ]
  },
  {
   "cell_type": "code",
   "execution_count": null,
   "metadata": {
    "collapsed": true
   },
   "outputs": [],
   "source": []
  }
 ],
 "metadata": {
  "kernelspec": {
   "display_name": "Python 2",
   "language": "python",
   "name": "python2"
  },
  "language_info": {
   "codemirror_mode": {
    "name": "ipython",
    "version": 2
   },
   "file_extension": ".py",
   "mimetype": "text/x-python",
   "name": "python",
   "nbconvert_exporter": "python",
   "pygments_lexer": "ipython2",
   "version": "2.7.13"
  }
 },
 "nbformat": 4,
 "nbformat_minor": 2
}
