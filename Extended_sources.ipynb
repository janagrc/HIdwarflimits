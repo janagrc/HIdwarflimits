{
 "cells": [
  {
   "cell_type": "code",
   "execution_count": 6,
   "metadata": {},
   "outputs": [],
   "source": [
    "import numpy as np\n",
    "from astropy.coordinates import SkyCoord\n",
    "\n",
    "a = SkyCoord('19h44m57.7s -14d48m12s')"
   ]
  },
  {
   "cell_type": "code",
   "execution_count": 8,
   "metadata": {},
   "outputs": [
    {
     "data": {
      "text/plain": [
       "<SkyCoord (Galactic): (l, b) in deg\n",
       "    ( 25.3395421, -18.39905205)>"
      ]
     },
     "execution_count": 8,
     "metadata": {},
     "output_type": "execute_result"
    }
   ],
   "source": [
    "a.galactic"
   ]
  },
  {
   "cell_type": "code",
   "execution_count": null,
   "metadata": {
    "collapsed": true
   },
   "outputs": [],
   "source": []
  },
  {
   "cell_type": "code",
   "execution_count": null,
   "metadata": {
    "collapsed": true
   },
   "outputs": [],
   "source": []
  },
  {
   "cell_type": "code",
   "execution_count": 1,
   "metadata": {
    "scrolled": false
   },
   "outputs": [
    {
     "name": "stdout",
     "output_type": "stream",
     "text": [
      "Populating the interactive namespace from numpy and matplotlib\n"
     ]
    }
   ],
   "source": [
    "%pylab inline\n",
    "from astropy.io import fits\n",
    "import astropy.units as u\n",
    "# tqdm is just for time keeping -- I suggest you install it, but you can comment it out \n",
    "# if you want an take it out of the code\n",
    "#from tqdm import tqdm\n",
    "from astroquery import ned\n",
    "from astropy.wcs import wcs\n",
    "from astropy.table import Table\n",
    "from astropy.coordinates import SkyCoord"
   ]
  },
  {
   "cell_type": "code",
   "execution_count": 2,
   "metadata": {
    "collapsed": true
   },
   "outputs": [],
   "source": [
    "# This is a cell with all self-defined functions\n",
    "def coord_NED(dwarfname):\n",
    "    from astroquery.ned.core import RemoteServiceError\n",
    "    # get rid of the weird symbos *, (, ), etc, since NED doens't like it\n",
    "    newname = dwarfname.replace('*','').replace('(','').replace(')', '')\n",
    "\n",
    "    try:\n",
    "        target = ned.Ned.query_object(newname)\n",
    "        ned_exist = True\n",
    "    except RemoteServiceError: \n",
    "        print('NED does not have info, skip: %s/%s\\n'%(dwarfname, newname))\n",
    "        ned_exist= False \n",
    "    \n",
    "    if ned_exist == False:\n",
    "        tRA, tDEC, tVel, tDist = np.nan, np.nan, np.nan, np.nan\n",
    "    else: # if NED does have this target, then extract coordinates\n",
    "        tRA = target[\"RA(deg)\"].data.data[0]\n",
    "        tDEC = target[\"DEC(deg)\"].data.data[0]\n",
    "        tVel = target[\"Velocity\"].data.data[0]\n",
    "        tDist = target[\"Distance (arcmin)\"].data.data[0]\n",
    "    return tRA, tDEC, tDist, tVel, ned_exist\n",
    "\n",
    "## transform from vhelio to vlsr \n",
    "def vhelio2vlsr_Westmeier(vel_init, ral, decb, reverse=False, doradec=True):\n",
    "    '''\n",
    "    - from http://www.atnf.csiro.au/people/Tobias.Westmeier/tools_hihelpers.php\n",
    "    - obj_ra:  should be in degree\n",
    "    - obj_dec: should be in degree\n",
    "    - vel_init: velocity that need to be transformed\n",
    "    -          vel_init = vhelio if reverse = False\n",
    "    -          vel_init = vlsr   if reverse = True\n",
    "    - Favor this one than the other one from Rosolowsky\n",
    "    '''\n",
    "    from astropy.coordinates import SkyCoord\n",
    "    import numpy as np\n",
    "\n",
    "    if doradec==True:\n",
    "        c = SkyCoord(ral, decb, unit='deg')\n",
    "        l = np.radians(c.galactic.l.value)\n",
    "        b = np.radians(c.galactic.b.value)\n",
    "    else:\n",
    "        l = np.radians(ral)\n",
    "        b = np.radians(decb)\n",
    "    # vlsr 00> vhelio\n",
    "    if reverse:\n",
    "        delv = -(9*np.cos(l)*np.cos(b)+12*np.sin(l)*np.cos(b)+7*np.sin(b))\n",
    "    else:\n",
    "        delv = +9*np.cos(l)*np.cos(b)+12*np.sin(l)*np.cos(b)+7*np.sin(b)\n",
    "\n",
    "    # print 'Velocity correction at this (RA, DEC) is (km/s): ', delv\n",
    "    return vel_init+delv\n",
    "\n",
    "\n",
    "def find_the_cube(ra, dec, observation='HI4PI'):\n",
    "    '''\n",
    "    Use the input (ra, dec) to decide which cube the data locates.\n",
    "\n",
    "    observation: most of the time, it is HI4PI or GALFA-HI . \n",
    "    \n",
    "    Note: GALFA-HI table is not available now, will do later \n",
    "    '''\n",
    "\n",
    "    clt = Table.read('tables/%s_RADEC.dat'%(observation), format='ascii')\n",
    "    cramin, cramax = clt['min_ra'], clt['max_ra']\n",
    "    cdcmin, cdcmax = clt['min_dec'], clt['max_dec']\n",
    "    indra = np.all([ra>cramin, ra<cramax], axis=0)\n",
    "    inddc = np.all([dec>cdcmin, dec<cdcmax], axis=0)\n",
    "    indall = np.where(np.all([indra, inddc], axis=0) == True)\n",
    "\n",
    "    cubename = clt['cubename'][indall]\n",
    "    if len(cubename)==0:\n",
    "        return ''\n",
    "    else:\n",
    "        cubename = cubename[0]\n",
    "\n",
    "        return cubename"
   ]
  },
  {
   "cell_type": "code",
   "execution_count": 3,
   "metadata": {},
   "outputs": [
    {
     "data": {
      "text/plain": [
       "(10.68479, 41.269060000000003, nan, -300.0, True)"
      ]
     },
     "execution_count": 3,
     "metadata": {},
     "output_type": "execute_result"
    }
   ],
   "source": [
    "coord_NED('M31')"
   ]
  },
  {
   "cell_type": "markdown",
   "metadata": {},
   "source": [
    "### First double check the dwarf galaxy coordinates with NED "
   ]
  },
  {
   "cell_type": "markdown",
   "metadata": {},
   "source": [
    "Step 1: read in target coordinates, and put it in SkyCoord to get the Galactic latitude/longitude (l, b) <br>\n",
    "Step 2: use (l, b) to convert velocity from heliocentric frame to LSR frame <br>\n",
    "step 3: check if NED has the target info, if not, skip, if yes, then print out info to compare "
   ]
  },
  {
   "cell_type": "code",
   "execution_count": 12,
   "metadata": {},
   "outputs": [
    {
     "name": "stdout",
     "output_type": "stream",
     "text": [
      "NED does not have info, skip: *CanisMajor/CanisMajor\n",
      "\n",
      "                  ID / Srs RA     Dec     D     Vel\n",
      "     SagittariusdSph / MP  283.83 -30.55  17.10 vh140.00 vlsr148.10\n",
      "                     / NED 283.83 -30.55    nan v?140.00\n",
      "\n",
      "NED does not have info, skip: *TucanaIII/TucanaIII\n",
      "\n",
      "NED does not have info, skip: *DracoII/DracoII\n",
      "\n",
      "                  ID / Srs RA     Dec     D     Vel\n",
      "            Segue(I) / MP  151.77  16.08  16.80 vh208.50 vlsr204.57\n",
      "                     / NED 151.77  16.08    nan v?208.00\n",
      "\n",
      "NED does not have info, skip: *Reticulum2/Reticulum2\n",
      "\n",
      "NED does not have info, skip: *CetusII/CetusII\n",
      "\n",
      "NED does not have info, skip: *TriangulumII/TriangulumII\n",
      "\n",
      "                  ID / Srs RA     Dec     D     Vel\n",
      "         UrsaMajorII / MP  132.87  63.13  17.50 vh-116.50 vlsr-114.18\n",
      "                     / NED 132.88  63.13    nan v?-100.00\n",
      "\n",
      "                  ID / Srs RA     Dec     D     Vel\n",
      "            BootesII / MP  209.50  12.85  18.10 vh-117.00 vlsr-107.72\n",
      "                     / NED 209.50  12.85    nan v?-117.00\n",
      "\n",
      "                  ID / Srs RA     Dec     D     Vel\n",
      "             SegueII / MP   34.82  20.18  17.70 vh-39.20 vlsr-44.82\n",
      "                     / NED  34.82  20.18    nan v?-39.00\n",
      "\n",
      "                  ID / Srs RA     Dec     D     Vel\n",
      "            Willman1 / MP  162.34  51.05  17.90 vh-12.30 vlsr -8.63\n",
      "                     / NED 162.34  51.05    nan v?-13.00\n",
      "\n",
      "                  ID / Srs RA     Dec     D     Vel\n",
      "       ComaBerenices / MP  186.75  23.90  18.20 vh 98.10 vlsr103.41\n",
      "                     / NED 186.75  23.90    nan v? 98.00\n",
      "\n",
      "NED does not have info, skip: *TucanaIV/TucanaIV\n",
      "\n",
      "                  ID / Srs RA     Dec     D     Vel\n",
      "          *BootesIII / MP  209.30  26.80  18.35 vh197.50 vlsr207.89\n",
      "                     / NED 209.30  26.80    nan v?   nan\n",
      "\n",
      "NED does not have info, skip: *GrusII/GrusII\n",
      "\n",
      "                  ID / Srs RA     Dec     D     Vel\n",
      "                 LMC / MP   80.89 -69.76  18.52 vh262.20 vlsr249.86\n",
      "                     / NED  80.89 -69.76    nan v?278.00\n",
      "\n",
      "NED does not have info, skip: *TucanaV/TucanaV\n",
      "\n",
      "NED does not have info, skip: Tucana2/Tucana2\n",
      "\n",
      "NED does not have info, skip: *SagittariusII/SagittariusII\n",
      "\n",
      "                  ID / Srs RA     Dec     D     Vel\n",
      "                 SMC / MP   13.18 -72.83  19.03 vh145.60 vlsr136.98\n",
      "                     / NED  13.19 -72.83    nan v?158.00\n",
      "\n",
      "                  ID / Srs RA     Dec     D     Vel\n",
      "           Bootes(I) / MP  210.02  14.50  19.11 vh 99.00 vlsr108.55\n",
      "                     / NED 210.03  14.50    nan v?100.00\n",
      "\n",
      "                  ID / Srs RA     Dec     D     Vel\n",
      "               Draco / MP  260.05  57.92  19.40 vh-291.00 vlsr-276.70\n",
      "                     / NED 260.05  57.92    nan v?-292.00\n",
      "\n",
      "                  ID / Srs RA     Dec     D     Vel\n",
      "           UrsaMinor / MP  227.28  67.22  19.40 vh-246.90 vlsr-235.39\n",
      "                     / NED 227.29  67.22    nan v?-247.00\n",
      "\n",
      "NED does not have info, skip: *HorologiumII/HorologiumII\n",
      "\n",
      "NED does not have info, skip: *Horologium1/Horologium1\n",
      "\n",
      "NED does not have info, skip: *Eridanus3/Eridanus3\n",
      "\n",
      "NED does not have info, skip: *Phoenix2/Phoenix2\n",
      "\n",
      "NED does not have info, skip: Sculptor/Sculptor\n",
      "\n",
      "                  ID / Srs RA     Dec     D     Vel\n",
      "          Sextans(I) / MP  153.26  -1.61  19.67 vh224.20 vlsr217.99\n",
      "                     / NED 153.26  -1.61    nan v?226.00\n",
      "\n",
      "NED does not have info, skip: *ReticulumIII/ReticulumIII\n",
      "\n",
      "NED does not have info, skip: *Indus1/Indus1\n",
      "\n",
      "                  ID / Srs RA     Dec     D     Vel\n",
      "        UrsaMajor(I) / MP  158.72  51.92  19.93 vh-55.30 vlsr-52.06\n",
      "                     / NED 158.72  51.92    nan v?1101.00\n",
      "\n",
      "NED does not have info, skip: *Grus1/Grus1\n",
      "\n",
      "NED does not have info, skip: *Pictoris1/Pictoris1\n",
      "\n",
      "                  ID / Srs RA     Dec     D     Vel\n",
      "              Carina / MP  100.40 -50.97  20.11 vh222.90 vlsr207.88\n",
      "                     / NED 100.40 -50.97    nan v?229.00\n",
      "\n",
      "NED does not have info, skip: Hercules/Hercules\n",
      "\n",
      "NED does not have info, skip: HydraII/HydraII\n",
      "\n",
      "NED does not have info, skip: Fornax/Fornax\n",
      "\n",
      "                  ID / Srs RA     Dec     D     Vel\n",
      "               LeoIV / MP  173.24   0.53  20.94 vh132.30 vlsr131.29\n",
      "                     / NED 173.24  -0.53    nan v?132.00\n",
      "\n",
      "NED does not have info, skip: CanesVenaticiII/CanesVenaticiII\n",
      "\n",
      "                  ID / Srs RA     Dec     D     Vel\n",
      "                LeoV / MP  172.79   2.22  21.25 vh173.30 vlsr172.41\n",
      "                     / NED 172.79   2.22    nan v?173.00\n",
      "\n",
      "                  ID / Srs RA     Dec     D     Vel\n",
      "            PiscesII / MP  344.63   5.95  21.30 vh-226.50 vlsr-222.46\n",
      "                     / NED 344.63   5.95    nan v?   nan\n",
      "\n",
      "NED does not have info, skip: *ColumbaI/ColumbaI\n",
      "\n",
      "NED does not have info, skip: *Pegasus3/Pegasus3\n",
      "\n",
      "NED does not have info, skip: *IndusI?/IndusI?\n",
      "\n",
      "NED does not have info, skip: CanesVenatici(I)/CanesVenaticiI\n",
      "\n",
      "                  ID / Srs RA     Dec     D     Vel\n",
      "               LeoII / MP  168.37  22.15  21.84 vh 78.00 vlsr 78.80\n",
      "                     / NED 168.37  22.15    nan v? 79.00\n",
      "\n",
      "                  ID / Srs RA     Dec     D     Vel\n",
      "                LeoI / MP  152.12  12.31  22.02 vh282.50 vlsr278.05\n",
      "                     / NED 152.12  12.31    nan v?285.00\n",
      "\n",
      "                  ID / Srs RA     Dec     D     Vel\n",
      "                 M32 / MP   10.67  40.87  24.53 vh-199.00 vlsr-196.41\n",
      "                     / NED  10.67  40.87    nan v?-200.00\n",
      "\n",
      "                  ID / Srs RA     Dec     D     Vel\n",
      "         AndromedaIX / MP   13.22  43.20  24.42 vh-209.40 vlsr-206.94\n",
      "                     / NED  13.22  43.20    nan v?-208.00\n",
      "\n",
      "                  ID / Srs RA     Dec     D     Vel\n",
      "              NGC205 / MP   10.09  41.69  24.58 vh-246.00 vlsr-243.19\n",
      "                     / NED  10.09  41.69    nan v?-241.00\n",
      "\n",
      "                  ID / Srs RA     Dec     D     Vel\n",
      "          AndromedaI / MP   11.41  38.04  24.36 vh-376.30 vlsr-374.26\n",
      "                     / NED  11.42  38.04    nan v?-368.00\n",
      "\n",
      "                  ID / Srs RA     Dec     D     Vel\n",
      "       AndromedaXVII / MP    9.28  44.32  24.31 vh-251.60 vlsr-248.28\n",
      "                     / NED   9.28  44.32    nan v?   nan\n",
      "\n",
      "                  ID / Srs RA     Dec     D     Vel\n",
      "      AndromedaXXVII / MP    9.36  45.39  24.59 vh-539.60 vlsr-536.16\n",
      "                     / NED   9.36  45.39    nan v?   nan\n",
      "\n",
      "                  ID / Srs RA     Dec     D     Vel\n",
      "        AndromedaIII / MP    8.89  36.50  24.37 vh-344.30 vlsr-341.98\n",
      "                     / NED   8.89  36.50    nan v?-351.00\n",
      "\n",
      "                  ID / Srs RA     Dec     D     Vel\n",
      "        AndromedaXXV / MP    7.53  46.85  24.55 vh-107.80 vlsr-103.85\n",
      "                     / NED   7.54  46.85    nan v?   nan\n",
      "\n",
      "                  ID / Srs RA     Dec     D     Vel\n",
      "       AndromedaXXVI / MP    5.94  47.92  24.41 vh-261.60 vlsr-257.25\n",
      "                     / NED   5.94  47.92    nan v?   nan\n",
      "\n",
      "                  ID / Srs RA     Dec     D     Vel\n",
      "          AndromedaV / MP   17.57  47.63  24.44 vh-403.00 vlsr-400.61\n",
      "                     / NED  17.57  47.63    nan v?-403.00\n",
      "\n",
      "                  ID / Srs RA     Dec     D     Vel\n",
      "         AndromedaXI / MP   11.58  33.80  24.33 vh-419.60 vlsr-418.21\n",
      "                     / NED  11.58  33.80    nan v?-420.00\n",
      "\n",
      "                  ID / Srs RA     Dec     D     Vel\n",
      "        AndromedaXIX / MP    4.88  35.04  24.57 vh-111.60 vlsr-108.66\n",
      "                     / NED   4.88  35.04    nan v?   nan\n",
      "\n",
      "                  ID / Srs RA     Dec     D     Vel\n",
      "      AndromedaXXIII / MP   22.34  38.72  24.43 vh-237.70 vlsr-237.61\n",
      "                     / NED  22.34  38.72    nan v?   nan\n",
      "\n",
      "                  ID / Srs RA     Dec     D     Vel\n",
      "         AndromedaXX / MP    1.87  35.13  24.35 vh-456.20 vlsr-452.62\n",
      "                     / NED   1.88  35.13    nan v?   nan\n",
      "\n",
      "                  ID / Srs RA     Dec     D     Vel\n",
      "       AndromedaXIII / MP   12.96  33.00  24.62 vh-185.40 vlsr-184.42\n",
      "                     / NED  12.96  33.00    nan v?-195.00\n",
      "\n",
      "                  ID / Srs RA     Dec     D     Vel\n",
      "          AndromedaX / MP   16.64  44.80  24.13 vh-164.10 vlsr-162.00\n",
      "                     / NED  16.64  44.80    nan v?-164.00\n",
      "\n",
      "                  ID / Srs RA     Dec     D     Vel\n",
      "        AndromedaXXI / MP  358.70  42.47  24.59 vh-362.50 vlsr-357.46\n",
      "                     / NED 358.70  42.47    nan v?   nan\n",
      "\n",
      "NED does not have info, skip: AndXXXII/AndXXXII\n",
      "\n",
      "                  ID / Srs RA     Dec     D     Vel\n",
      "              NGC147 / MP    8.30  48.51  24.15 vh-193.10 vlsr-189.07\n",
      "                     / NED   8.30  48.51    nan v?-193.00\n",
      "\n",
      "                  ID / Srs RA     Dec     D     Vel\n",
      "              AndXXX / MP    9.14  49.65  24.17 vh-139.80 vlsr-135.76\n",
      "                     / NED   9.15  49.65    nan v?   nan\n",
      "\n",
      "                  ID / Srs RA     Dec     D     Vel\n",
      "        AndromedaXIV / MP   12.90  29.70  24.50 vh-480.60 vlsr-480.10\n",
      "                     / NED  12.90  29.70    nan v?-481.00\n",
      "\n",
      "                  ID / Srs RA     Dec     D     Vel\n",
      "        AndromedaXII / MP   11.86  34.37  24.84 vh-558.40 vlsr-556.99\n",
      "                     / NED  11.86  34.37    nan v?-559.00\n",
      "\n",
      "                  ID / Srs RA     Dec     D     Vel\n",
      "         AndromedaXV / MP   18.57  38.12  23.98 vh-323.00 vlsr-322.32\n",
      "                     / NED  18.58  38.12    nan v?-339.00\n",
      "\n",
      "                  ID / Srs RA     Dec     D     Vel\n",
      "         AndromedaII / MP   19.12  33.42  24.07 vh-192.40 vlsr-192.59\n",
      "                     / NED  19.12  33.42    nan v?-188.00\n",
      "\n",
      "                  ID / Srs RA     Dec     D     Vel\n",
      "              NGC185 / MP    9.74  48.34  23.95 vh-203.80 vlsr-200.03\n",
      "                     / NED   9.74  48.34    nan v?-202.00\n",
      "\n",
      "                  ID / Srs RA     Dec     D     Vel\n",
      "       AndromedaXXIX / MP  359.73  30.76  24.32 vh-194.40 vlsr-190.90\n",
      "                     / NED 359.73  30.76    nan v?   nan\n",
      "\n",
      "                  ID / Srs RA     Dec     D     Vel\n",
      "       AndromedaXXIV / MP   19.62  46.37  23.89 vh-128.20 vlsr-126.35\n",
      "                     / NED  19.62  46.37    nan v?   nan\n",
      "\n",
      "                  ID / Srs RA     Dec     D     Vel\n",
      "        AndromedaVII / MP  351.63  50.68  24.41 vh-307.20 vlsr-300.22\n",
      "                     / NED 351.63  50.68    nan v?-307.00\n",
      "\n",
      "                  ID / Srs RA     Dec     D     Vel\n",
      "                IC10 / MP    5.07  59.30  24.50 vh-348.00 vlsr-342.27\n",
      "                     / NED   5.07  59.30    nan v?-348.00\n",
      "\n",
      "                  ID / Srs RA     Dec     D     Vel\n",
      "             AndXXXI / MP  344.57  41.29  24.40 vh999.90 vlsr1007.50\n",
      "                     / NED   9.00  51.56    nan v?-372.00\n",
      "\n",
      "                  ID / Srs RA     Dec     D     Vel\n",
      "                LGS3 / MP   15.98  21.88  24.43 vh-286.50 vlsr-287.89\n",
      "                     / NED  15.98  21.89    nan v?-287.00\n",
      "\n",
      "                  ID / Srs RA     Dec     D     Vel\n",
      "         AndromedaVI / MP  357.94  24.58  24.47 vh-339.80 vlsr-336.66\n",
      "                     / NED 357.94  24.58    nan v?-354.00\n",
      "\n",
      "                  ID / Srs RA     Dec     D     Vel\n",
      "       AndromedaXXII / MP   21.92  28.09  24.82 vh-129.80 vlsr-131.45\n",
      "                     / NED  21.92  28.09    nan v?   nan\n",
      "\n",
      "                  ID / Srs RA     Dec     D     Vel\n",
      "        AndromedaXVI / MP   14.87  32.38  23.39 vh-367.30 vlsr-366.80\n",
      "                     / NED  14.87  32.38    nan v?-385.00\n",
      "\n",
      "                  ID / Srs RA     Dec     D     Vel\n",
      "     AndromedaXXVIII / MP  338.17  31.22  24.10 vh-326.20 vlsr-318.03\n",
      "                     / NED 338.17  31.22    nan v?   nan\n",
      "\n",
      "NED does not have info, skip: AndXXXIII/AndXXXIII\n",
      "\n",
      "                  ID / Srs RA     Dec     D     Vel\n",
      "              IC1613 / MP   16.20   2.12  24.39 vh-231.60 vlsr-235.99\n",
      "                     / NED  16.20   2.12    nan v?-234.00\n",
      "\n",
      "NED does not have info, skip: Phoenix/Phoenix\n",
      "\n",
      "NED does not have info, skip: Eridanus2/Eridanus2\n",
      "\n",
      "                  ID / Srs RA     Dec     D     Vel\n",
      "             NGC6822 / MP  296.23 -14.79  23.31 vh-54.50 vlsr-44.11\n",
      "                     / NED 296.24 -14.80    nan v?-57.00\n",
      "\n",
      "NED does not have info, skip: Cetus/Cetus\n",
      "\n",
      "NED does not have info, skip: PegasusdIrr/PegasusdIrr\n",
      "\n",
      "                  ID / Srs RA     Dec     D     Vel\n",
      "                LeoT / MP  143.72  17.05  23.10 vh 38.10 vlsr 32.63\n",
      "                     / NED 143.72  17.05    nan v? 35.00\n",
      "\n",
      "                  ID / Srs RA     Dec     D     Vel\n",
      "                 WLM / MP    0.49 -15.46  24.85 vh-130.00 vlsr-132.82\n",
      "                     / NED   0.49 -15.46    nan v?-122.00\n",
      "\n",
      "                  ID / Srs RA     Dec     D     Vel\n",
      "      AndromedaXVIII / MP    0.56  45.09  25.42 vh-332.10 vlsr-327.13\n",
      "                     / NED   0.56  45.09    nan v?   nan\n",
      "\n",
      "                  ID / Srs RA     Dec     D     Vel\n",
      "                LeoA / MP  149.86  30.75  24.51 vh 24.00 vlsr 22.17\n",
      "                     / NED 149.86  30.75    nan v? 20.00\n",
      "\n",
      "NED does not have info, skip: Aquarius/Aquarius\n",
      "\n",
      "NED does not have info, skip: Tucana/Tucana\n",
      "\n",
      "NED does not have info, skip: SagittariusdIrr/SagittariusdIrr\n",
      "\n",
      "                  ID / Srs RA     Dec     D     Vel\n",
      "             UGC4879 / MP  139.01  52.84  25.67 vh-29.20 vlsr-28.47\n",
      "                     / NED 139.01  52.84    nan v?-70.00\n",
      "\n",
      "NED does not have info, skip: AntliaB/AntliaB\n",
      "\n",
      "                  ID / Srs RA     Dec     D     Vel\n",
      "             NGC3109 / MP  150.78 -26.16  25.57 vh403.00 vlsr393.67\n",
      "                     / NED 150.78 -26.16    nan v?403.00\n",
      "\n",
      "                  ID / Srs RA     Dec     D     Vel\n",
      "            SextansB / MP  150.00   5.33  25.77 vh304.00 vlsr298.01\n",
      "                     / NED 150.00   5.33    nan v?301.00\n",
      "\n",
      "NED does not have info, skip: Antlia/Antlia\n",
      "\n",
      "                  ID / Srs RA     Dec     D     Vel\n",
      "            SextansA / MP  152.75  -4.69  25.78 vh324.00 vlsr317.27\n",
      "                     / NED 152.75  -4.69    nan v?324.00\n",
      "\n",
      "                  ID / Srs RA     Dec     D     Vel\n",
      "           HIZSS3(A) / MP  105.12  -4.21  26.12 vh288.00 vlsr273.55\n",
      "                     / NED 105.12  -4.20    nan v?288.00\n",
      "\n",
      "                  ID / Srs RA     Dec     D     Vel\n",
      "             HIZSS3B / MP  105.12  -4.21  26.12 vh322.60 vlsr308.15\n",
      "                     / NED 105.10  -4.22    nan v?323.00\n",
      "\n",
      "                  ID / Srs RA     Dec     D     Vel\n",
      "                LeoP / MP  155.44  18.09  26.05 vh264.00 vlsr261.21\n",
      "                     / NED 155.44  18.09    nan v?   nan\n",
      "\n",
      "                  ID / Srs RA     Dec     D     Vel\n",
      "         ESO410-G005 / MP    3.88 -32.18  26.42 vh999.90 vlsr994.37\n",
      "                     / NED   3.88 -32.18    nan v?159.00\n",
      "\n",
      "                  ID / Srs RA     Dec     D     Vel\n",
      "               KKR25 / MP  243.45  54.37  26.42 vh-65.00 vlsr-50.89\n",
      "                     / NED 243.45  54.37    nan v?-139.00\n",
      "\n",
      "                  ID / Srs RA     Dec     D     Vel\n",
      "         ESO294-G010 / MP    6.64 -41.86  26.54 vh117.00 vlsr110.07\n",
      "                     / NED   6.64 -41.86    nan v?117.00\n",
      "\n",
      "                  ID / Srs RA     Dec     D     Vel\n",
      "              IC5152 / MP  330.67 -51.30  26.45 vh122.00 vlsr120.03\n",
      "                     / NED 330.67 -51.30    nan v?122.00\n",
      "\n",
      "                  ID / Srs RA     Dec     D     Vel\n",
      "               KKH98 / MP  356.39  38.72  27.01 vh-136.90 vlsr-131.80\n",
      "                     / NED 356.39  38.72    nan v?-137.00\n",
      "\n",
      "                  ID / Srs RA     Dec     D     Vel\n",
      "         UKS2323-326 / MP  351.61 -32.39  26.72 vh 62.00 vlsr 59.08\n",
      "                     / NED 351.61 -32.39    nan v? 62.00\n",
      "\n",
      "NED does not have info, skip: KK258/KK258\n",
      "\n",
      "                  ID / Srs RA     Dec     D     Vel\n",
      "                KKR3 / MP  211.79  35.06  26.70 vh 63.30 vlsr 74.52\n",
      "                     / NED 211.79  35.06    nan v? 62.00\n",
      "\n",
      "NED does not have info, skip: KKs3/KKs3\n",
      "\n",
      "                  ID / Srs RA     Dec     D     Vel\n",
      "                 GR8 / MP  194.67  14.22  26.69 vh213.90 vlsr219.99\n",
      "                     / NED 194.67  14.22    nan v?214.00\n",
      "\n",
      "                  ID / Srs RA     Dec     D     Vel\n",
      "             UGC9128 / MP  213.98  23.06  26.80 vh152.00 vlsr163.04\n",
      "                     / NED 213.99  23.06    nan v?153.00\n",
      "\n",
      "                  ID / Srs RA     Dec     D     Vel\n",
      "             UGC8508 / MP  202.68  54.91  27.06 vh 56.00 vlsr 65.96\n",
      "                     / NED 202.69  54.91    nan v? 62.00\n",
      "\n",
      "                  ID / Srs RA     Dec     D     Vel\n",
      "              IC3104 / MP  184.69 -79.73  26.78 vh429.00 vlsr421.65\n",
      "                     / NED 184.69 -79.73    nan v?429.00\n",
      "\n",
      "                  ID / Srs RA     Dec     D     Vel\n",
      "              DDO125 / MP  186.92  43.50  27.06 vh194.90 vlsr202.00\n",
      "                     / NED 186.92  43.50    nan v?195.00\n",
      "\n",
      "                  ID / Srs RA     Dec     D     Vel\n",
      "              UGCA86 / MP   59.95  67.14  27.36 vh 67.00 vlsr 69.16\n",
      "                     / NED  59.95  67.14    nan v? 67.00\n",
      "\n",
      "                  ID / Srs RA     Dec     D     Vel\n",
      "               DDO99 / MP  177.72  38.88  27.07 vh251.00 vlsr255.94\n",
      "                     / NED 177.72  38.88    nan v?242.00\n",
      "\n",
      "                  ID / Srs RA     Dec     D     Vel\n",
      "              IC4662 / MP  266.78 -64.64  26.94 vh302.00 vlsr301.20\n",
      "                     / NED 266.79 -64.64    nan v?302.00\n",
      "\n",
      "                  ID / Srs RA     Dec     D     Vel\n",
      "              DDO190 / MP  216.18  44.53  27.23 vh150.00 vlsr161.98\n",
      "                     / NED 216.18  44.53    nan v?150.00\n",
      "\n",
      "                  ID / Srs RA     Dec     D     Vel\n",
      "               KKH86 / MP  208.64   4.24  27.06 vh287.20 vlsr295.31\n",
      "                     / NED 208.64   4.24    nan v?287.00\n",
      "\n",
      "                  ID / Srs RA     Dec     D     Vel\n",
      "             NGC4163 / MP  183.04  36.17  27.28 vh165.00 vlsr170.74\n",
      "                     / NED 183.04  36.17    nan v?165.00\n",
      "\n",
      "                  ID / Srs RA     Dec     D     Vel\n",
      "              DDO113 / MP  183.74  36.22  27.35 vh284.00 vlsr289.89\n",
      "                     / NED 183.74  36.22    nan v?284.00\n",
      "\n"
     ]
    }
   ],
   "source": [
    "dwtb = Table.read('tables/NearbyGalaxiese_formatted.txt', format='ascii')\n",
    "\n",
    "for iw, iwtb in enumerate(dwtb):\n",
    "    \n",
    "    # S1: get the coordinates from the table directly \n",
    "    ra_str = '%dh%dm%ds'%(iwtb['RA_h'], iwtb['RA_m'], iwtb['RA_s'])\n",
    "    dec_str = '%dd%dm%ds'%(iwtb['Dec_d'], iwtb['Dec_m'], iwtb['Dec_s'])\n",
    "    icoord = SkyCoord(ra=ra_str, dec=dec_str)\n",
    "    \n",
    "    # S2: this function transform vhelio velocity to vlsr velocity \n",
    "    vh_2_vlsr = vhelio2vlsr_Westmeier(0, icoord.ra.deg, icoord.dec.deg)\n",
    "    \n",
    "    # S3: get coordinates from NED \n",
    "    nedinfo = coord_NED(iwtb['GalaxyName'])\n",
    "    if nedinfo[-1] == True:\n",
    "        print('%20s / Srs RA     Dec     D     Vel'%('ID'))\n",
    "        print('%20s / MP  %6.2f %6.2f %6.2f vh%6.2f vlsr%6.2f'%(iwtb['GalaxyName'], icoord.ra.deg, icoord.dec.deg, \n",
    "                                                                iwtb['Dist'], \n",
    "                                                                iwtb['vh(km/s)'], iwtb['vh(km/s)']+vh_2_vlsr))\n",
    "                                                         \n",
    "        print('%20s / NED %6.2f %6.2f %6.2f v?%6.2f\\n'%('', nedinfo[0], nedinfo[1], nedinfo[2], nedinfo[3]))"
   ]
  },
  {
   "cell_type": "markdown",
   "metadata": {},
   "source": [
    "YZ note: After running the cell above, my conclusion is, NED's velocity information is weird ... <br>RA/DEC seem consistent, so let's stay with Mary's table for the rest of this code. "
   ]
  },
  {
   "cell_type": "markdown",
   "metadata": {},
   "source": [
    "### Now let's go through each galaxy in the table one by one to see which HI cube you need: <br>\n",
    "Step 1: read in a galaxy from Mary's table, and use SkyCoord to get RA/DEC <br>\n",
    "Step 2: find the corresponding GALFA-HI cube and HI4PI cube that contains the data of this galaxy "
   ]
  },
  {
   "cell_type": "code",
   "execution_count": 10,
   "metadata": {},
   "outputs": [
    {
     "name": "stdout",
     "output_type": "stream",
     "text": [
      "         *CanisMajor is in HI4PI: CAR_D06, and GALFA-HI: \n",
      "     SagittariusdSph is in HI4PI: CAR_C15, and GALFA-HI: \n",
      "          *TucanaIII is in HI4PI: CAR_B18, and GALFA-HI: \n",
      "            *DracoII is in HI4PI: CAR_H12, and GALFA-HI: \n",
      "            Segue(I) is in HI4PI: CAR_F08, and GALFA-HI: GALFA_HI_RA+DEC_148.00+18.35_W\n",
      "         *Reticulum2 is in HI4PI: CAR_B03, and GALFA-HI: \n",
      "            *CetusII is in HI4PI: CAR_D01, and GALFA-HI: \n",
      "       *TriangulumII is in HI4PI: CAR_G02, and GALFA-HI: GALFA_HI_RA+DEC_036.00+34.35_W\n",
      "         UrsaMajorII is in HI4PI: CAR_H07, and GALFA-HI: \n",
      "            BootesII is in HI4PI: CAR_F11, and GALFA-HI: GALFA_HI_RA+DEC_212.00+10.35_W\n",
      "             SegueII is in HI4PI: CAR_F02, and GALFA-HI: GALFA_HI_RA+DEC_036.00+18.35_W\n",
      "            Willman1 is in HI4PI: CAR_G09, and GALFA-HI: \n",
      "       ComaBerenices is in HI4PI: CAR_F10, and GALFA-HI: GALFA_HI_RA+DEC_188.00+26.35_W\n",
      "           *TucanaIV is in HI4PI: CAR_B01, and GALFA-HI: \n",
      "          *BootesIII is in HI4PI: CAR_F11, and GALFA-HI: GALFA_HI_RA+DEC_212.00+26.35_W\n",
      "             *GrusII is in HI4PI: CAR_C17, and GALFA-HI: \n",
      "                 LMC is in HI4PI: CAR_A04, and GALFA-HI: \n",
      "            *TucanaV is in HI4PI: CAR_B18, and GALFA-HI: \n",
      "             Tucana2 is in HI4PI: CAR_B18, and GALFA-HI: \n",
      "      *SagittariusII is in HI4PI: CAR_D15, and GALFA-HI: \n",
      "                 SMC is in HI4PI: CAR_A01, and GALFA-HI: \n",
      "           Bootes(I) is in HI4PI: CAR_F11, and GALFA-HI: GALFA_HI_RA+DEC_212.00+10.35_W\n",
      "               Draco is in HI4PI: CAR_H13, and GALFA-HI: \n",
      "           UrsaMinor is in HI4PI: CAR_H12, and GALFA-HI: \n",
      "       *HorologiumII is in HI4PI: CAR_B03, and GALFA-HI: \n",
      "        *Horologium1 is in HI4PI: CAR_B03, and GALFA-HI: \n",
      "          *Eridanus3 is in HI4PI: CAR_B02, and GALFA-HI: \n",
      "           *Phoenix2 is in HI4PI: CAR_B18, and GALFA-HI: \n",
      "            Sculptor is in HI4PI: CAR_C01, and GALFA-HI: \n",
      "          Sextans(I) is in HI4PI: CAR_E08, and GALFA-HI: \n",
      "       *ReticulumIII is in HI4PI: CAR_B03, and GALFA-HI: \n",
      "             *Indus1 is in HI4PI: CAR_B16, and GALFA-HI: \n",
      "        UrsaMajor(I) is in HI4PI: CAR_H08, and GALFA-HI: \n",
      "              *Grus1 is in HI4PI: CAR_B18, and GALFA-HI: \n",
      "          *Pictoris1 is in HI4PI: CAR_B04, and GALFA-HI: \n",
      "              Carina is in HI4PI: CAR_B05, and GALFA-HI: \n",
      "            Hercules is in HI4PI: CAR_F13, and GALFA-HI: GALFA_HI_RA+DEC_244.00+10.35_W\n",
      "             HydraII is in HI4PI: CAR_C10, and GALFA-HI: \n",
      "              Fornax is in HI4PI: CAR_C02, and GALFA-HI: \n",
      "               LeoIV is in HI4PI: CAR_E09, and GALFA-HI: GALFA_HI_RA+DEC_172.00+02.35_W\n",
      "     CanesVenaticiII is in HI4PI: CAR_G10, and GALFA-HI: GALFA_HI_RA+DEC_196.00+34.35_W\n",
      "                LeoV is in HI4PI: CAR_E09, and GALFA-HI: GALFA_HI_RA+DEC_172.00+02.35_W\n",
      "            PiscesII is in HI4PI: CAR_E18, and GALFA-HI: GALFA_HI_RA+DEC_348.00+02.35_W\n",
      "           *ColumbaI is in HI4PI: CAR_D05, and GALFA-HI: \n",
      "           *Pegasus3 is in HI4PI: CAR_E17, and GALFA-HI: GALFA_HI_RA+DEC_332.00+02.35_W\n",
      "            *IndusI? is in HI4PI: CAR_C16, and GALFA-HI: \n",
      "    CanesVenatici(I) is in HI4PI: CAR_G11, and GALFA-HI: GALFA_HI_RA+DEC_204.00+34.35_W\n",
      "               LeoII is in HI4PI: CAR_F09, and GALFA-HI: GALFA_HI_RA+DEC_172.00+18.35_W\n",
      "                LeoI is in HI4PI: CAR_F08, and GALFA-HI: GALFA_HI_RA+DEC_148.00+10.35_W\n",
      "                 M32 is in HI4PI: CAR_G01, and GALFA-HI: \n",
      "         AndromedaIX is in HI4PI: CAR_G01, and GALFA-HI: \n",
      "              NGC205 is in HI4PI: CAR_G01, and GALFA-HI: \n",
      "          AndromedaI is in HI4PI: CAR_G01, and GALFA-HI: \n",
      "       AndromedaXVII is in HI4PI: CAR_G01, and GALFA-HI: \n",
      "      AndromedaXXVII is in HI4PI: CAR_G01, and GALFA-HI: \n",
      "        AndromedaIII is in HI4PI: CAR_G01, and GALFA-HI: GALFA_HI_RA+DEC_012.00+34.35_W\n",
      "        AndromedaXXV is in HI4PI: CAR_G01, and GALFA-HI: \n",
      "       AndromedaXXVI is in HI4PI: CAR_G01, and GALFA-HI: \n",
      "          AndromedaV is in HI4PI: CAR_G01, and GALFA-HI: \n",
      "         AndromedaXI is in HI4PI: CAR_G01, and GALFA-HI: GALFA_HI_RA+DEC_012.00+34.35_W\n",
      "        AndromedaXIX is in HI4PI: CAR_G01, and GALFA-HI: GALFA_HI_RA+DEC_004.00+34.35_W\n",
      "      AndromedaXXIII is in HI4PI: CAR_G02, and GALFA-HI: \n",
      "         AndromedaXX is in HI4PI: CAR_G01, and GALFA-HI: GALFA_HI_RA+DEC_004.00+34.35_W\n",
      "       AndromedaXIII is in HI4PI: CAR_G01, and GALFA-HI: GALFA_HI_RA+DEC_012.00+34.35_W\n",
      "          AndromedaX is in HI4PI: CAR_G01, and GALFA-HI: \n",
      "        AndromedaXXI is in HI4PI: CAR_G18, and GALFA-HI: \n",
      "            AndXXXII is in HI4PI: CAR_H01, and GALFA-HI: \n",
      "              NGC147 is in HI4PI: CAR_G01, and GALFA-HI: \n",
      "              AndXXX is in HI4PI: CAR_G01, and GALFA-HI: \n",
      "        AndromedaXIV is in HI4PI: CAR_F01, and GALFA-HI: GALFA_HI_RA+DEC_012.00+26.35_W\n",
      "        AndromedaXII is in HI4PI: CAR_G01, and GALFA-HI: GALFA_HI_RA+DEC_012.00+34.35_W\n",
      "         AndromedaXV is in HI4PI: CAR_G01, and GALFA-HI: \n",
      "         AndromedaII is in HI4PI: CAR_G01, and GALFA-HI: GALFA_HI_RA+DEC_020.00+34.35_W\n",
      "              NGC185 is in HI4PI: CAR_G01, and GALFA-HI: \n",
      "       AndromedaXXIX is in HI4PI: CAR_F18, and GALFA-HI: GALFA_HI_RA+DEC_356.00+34.35_W\n",
      "       AndromedaXXIV is in HI4PI: CAR_G01, and GALFA-HI: \n",
      "        AndromedaVII is in HI4PI: CAR_G18, and GALFA-HI: \n",
      "                IC10 is in HI4PI: CAR_H01, and GALFA-HI: \n",
      "             AndXXXI is in HI4PI: CAR_G18, and GALFA-HI: \n",
      "                LGS3 is in HI4PI: CAR_F01, and GALFA-HI: GALFA_HI_RA+DEC_012.00+18.35_W\n",
      "         AndromedaVI is in HI4PI: CAR_F18, and GALFA-HI: GALFA_HI_RA+DEC_356.00+26.35_W\n",
      "       AndromedaXXII is in HI4PI: CAR_F02, and GALFA-HI: GALFA_HI_RA+DEC_020.00+26.35_W\n",
      "        AndromedaXVI is in HI4PI: CAR_G01, and GALFA-HI: GALFA_HI_RA+DEC_012.00+34.35_W\n",
      "     AndromedaXXVIII is in HI4PI: CAR_G17, and GALFA-HI: GALFA_HI_RA+DEC_340.00+34.35_W\n",
      "           AndXXXIII is in HI4PI: CAR_G03, and GALFA-HI: \n",
      "              IC1613 is in HI4PI: CAR_E01, and GALFA-HI: GALFA_HI_RA+DEC_012.00+02.35_W\n",
      "             Phoenix is in HI4PI: CAR_C02, and GALFA-HI: \n",
      "           Eridanus2 is in HI4PI: CAR_C03, and GALFA-HI: \n",
      "             NGC6822 is in HI4PI: CAR_D15, and GALFA-HI: \n",
      "               Cetus is in HI4PI: CAR_D01, and GALFA-HI: \n",
      "         PegasusdIrr is in HI4PI: CAR_F18, and GALFA-HI: GALFA_HI_RA+DEC_348.00+18.35_W\n",
      "                LeoT is in HI4PI: CAR_F08, and GALFA-HI: GALFA_HI_RA+DEC_140.00+18.35_W\n",
      "                 WLM is in HI4PI: CAR_D01, and GALFA-HI: \n",
      "      AndromedaXVIII is in HI4PI: CAR_G01, and GALFA-HI: \n",
      "                LeoA is in HI4PI: CAR_F08, and GALFA-HI: GALFA_HI_RA+DEC_148.00+34.35_W\n",
      "            Aquarius is in HI4PI: CAR_D16, and GALFA-HI: \n",
      "              Tucana is in HI4PI: CAR_B17, and GALFA-HI: \n",
      "     SagittariusdIrr is in HI4PI: CAR_D15, and GALFA-HI: \n",
      "             UGC4879 is in HI4PI: CAR_H07, and GALFA-HI: \n",
      "             AntliaB is in HI4PI: CAR_D08, and GALFA-HI: \n",
      "             NGC3109 is in HI4PI: CAR_D08, and GALFA-HI: \n",
      "            SextansB is in HI4PI: CAR_E08, and GALFA-HI: GALFA_HI_RA+DEC_148.00+02.35_W\n",
      "              Antlia is in HI4PI: CAR_D08, and GALFA-HI: \n",
      "            SextansA is in HI4PI: CAR_E08, and GALFA-HI: \n",
      "           HIZSS3(A) is in HI4PI: CAR_E06, and GALFA-HI: \n",
      "             HIZSS3B is in HI4PI: CAR_E06, and GALFA-HI: \n",
      "                LeoP is in HI4PI: CAR_F08, and GALFA-HI: GALFA_HI_RA+DEC_156.00+18.35_W\n",
      "         ESO410-G005 is in HI4PI: CAR_C01, and GALFA-HI: \n",
      "               KKR25 is in HI4PI: CAR_H13, and GALFA-HI: \n",
      "         ESO294-G010 is in HI4PI: CAR_C01, and GALFA-HI: \n",
      "              IC5152 is in HI4PI: CAR_B17, and GALFA-HI: \n",
      "               KKH98 is in HI4PI: CAR_G18, and GALFA-HI: \n",
      "         UKS2323-326 is in HI4PI: CAR_C18, and GALFA-HI: \n",
      "               KK258 is in HI4PI: CAR_C17, and GALFA-HI: \n",
      "                KKR3 is in HI4PI: CAR_G11, and GALFA-HI: GALFA_HI_RA+DEC_212.00+34.35_W\n",
      "                KKs3 is in HI4PI: CAR_A02, and GALFA-HI: \n",
      "                 GR8 is in HI4PI: CAR_F10, and GALFA-HI: GALFA_HI_RA+DEC_196.00+10.35_W\n",
      "             UGC9128 is in HI4PI: CAR_F11, and GALFA-HI: GALFA_HI_RA+DEC_212.00+26.35_W\n",
      "             UGC8508 is in HI4PI: CAR_H11, and GALFA-HI: \n",
      "              IC3104 is in HI4PI: CAR_A10, and GALFA-HI: \n",
      "              DDO125 is in HI4PI: CAR_G10, and GALFA-HI: \n",
      "              UGCA86 is in HI4PI: CAR_H03, and GALFA-HI: \n",
      "               DDO99 is in HI4PI: CAR_G09, and GALFA-HI: \n",
      "              IC4662 is in HI4PI: CAR_B14, and GALFA-HI: \n",
      "              DDO190 is in HI4PI: CAR_G11, and GALFA-HI: \n",
      "               KKH86 is in HI4PI: CAR_E11, and GALFA-HI: GALFA_HI_RA+DEC_212.00+02.35_W\n",
      "             NGC4163 is in HI4PI: CAR_G10, and GALFA-HI: GALFA_HI_RA+DEC_180.00+34.35_W\n",
      "              DDO113 is in HI4PI: CAR_G10, and GALFA-HI: GALFA_HI_RA+DEC_180.00+34.35_W\n"
     ]
    }
   ],
   "source": [
    "dwtb = Table.read('tables/NearbyGalaxiese_formatted.txt', format='ascii')\n",
    "\n",
    "for iw, iwtb in enumerate(dwtb):\n",
    "    \n",
    "    # S1: get the coordinates from the table directly \n",
    "    ra_str = '%dh%dm%ds'%(iwtb['RA_h'], iwtb['RA_m'], iwtb['RA_s'])\n",
    "    dec_str = '%dd%dm%ds'%(iwtb['Dec_d'], iwtb['Dec_m'], iwtb['Dec_s'])\n",
    "    icoord = SkyCoord(ra=ra_str, dec=dec_str)\n",
    "    vh_2_vlsr = vhelio2vlsr_Westmeier(0, icoord.ra.deg, icoord.dec.deg)\n",
    "    \n",
    "    # find the corresponding GALFA-HI and HI4PI cube names \n",
    "    hi4pi_cubename = find_the_cube(icoord.ra.deg, icoord.dec.deg, observation='HI4PI')\n",
    "    galfa_cubename = find_the_cube(icoord.ra.deg, icoord.dec.deg, observation='GALFA_HI')\n",
    "    print('%20s is in HI4PI: %7s, and GALFA-HI: %s'%(iwtb['GalaxyName'], hi4pi_cubename, galfa_cubename))"
   ]
  },
  {
   "cell_type": "markdown",
   "metadata": {},
   "source": [
    "### Single target study <br>\n",
    "Now you know which target you want to study, and their RA/DEC/VLSR info, now let's get the HI data <br>\n",
    "This example is for Leo T"
   ]
  },
  {
   "cell_type": "code",
   "execution_count": 22,
   "metadata": {
    "collapsed": true
   },
   "outputs": [],
   "source": [
    "def ellipse_mask_cube(semi_a, semi_b, PA, tar_x, tar_y, cube_header, extend_pix = 0):\n",
    "    ## make ellipse based on the semi major/minor axies and position angle of the targets \n",
    "    \n",
    "    cube_wh = cube_header['NAXIS1']  # RA\n",
    "    cube_ht = cube_header['NAXIS2']  # DEC\n",
    "    x1d = np.arange(cube_wh)\n",
    "    y1d = np.arange(cube_ht)\n",
    "    x2d, y2d = np.meshgrid(x1d, y1d)\n",
    "\n",
    "    # center at the source \n",
    "    x2d_nc, y2d_nc = x2d-tar_x, y2d-tar_y\n",
    "\n",
    "    # this is a rough pixel length for the semimajor and semiminor axis\n",
    "    semi_a_pix = abs(semi_a / cube_header['CDELT1'])\n",
    "    semi_b_pix = abs(semi_b / cube_header['CDELT1'])\n",
    "    \n",
    "    #### this line #### \n",
    "    ## used to be: \n",
    "    ### phi = np.radians(90-PA)\n",
    "    \n",
    "    phi = np.radians(90+PA)\n",
    "\n",
    "    # transform to new coordinate system\n",
    "    xx_prime = x2d_nc*np.cos(phi) + y2d_nc*np.sin(phi)\n",
    "    yy_prime = -x2d_nc*np.sin(phi) + y2d_nc*np.cos(phi)\n",
    "\n",
    "    mask_ep = ((xx_prime/(semi_a_pix+extend_pix))**2 + (yy_prime/(semi_b_pix+extend_pix))**2)<=1 \n",
    "    return mask_ep"
   ]
  },
  {
   "cell_type": "code",
   "execution_count": 24,
   "metadata": {},
   "outputs": [
    {
     "data": {
      "text/plain": [
       "(23.462039999999998, 30.660219999999999, nan, -179.0, True)"
      ]
     },
     "execution_count": 24,
     "metadata": {},
     "output_type": "execute_result"
    }
   ],
   "source": [
    "coord_NED('M33')"
   ]
  },
  {
   "cell_type": "code",
   "execution_count": 26,
   "metadata": {
    "collapsed": true
   },
   "outputs": [],
   "source": [
    "# M33 info\n",
    "\n",
    "objRA, objDEC, objV = 23.46, 30.66, -179\n",
    "semi_a = 70.8/2/60 # degree, semi major axes\n",
    "semi_b = 41.7/2/60 # degree, semi minor axes\n",
    "PA = 23\n",
    "# degree, I suppose it's angle between semi_a and north, measured toward east? "
   ]
  },
  {
   "cell_type": "code",
   "execution_count": 27,
   "metadata": {},
   "outputs": [
    {
     "name": "stdout",
     "output_type": "stream",
     "text": [
      "CAR_F02\n",
      "-1.52036121458\n"
     ]
    }
   ],
   "source": [
    "vh_2_vlsr = vhelio2vlsr_Westmeier(0, objRA, objDEC)\n",
    "print(find_the_cube(objRA, objDEC, observation='HI4PI'))\n",
    "print(vh_2_vlsr)"
   ]
  },
  {
   "cell_type": "code",
   "execution_count": 38,
   "metadata": {},
   "outputs": [
    {
     "data": {
      "text/plain": [
       "SIMPLE  =                    T                                                  \n",
       "BITPIX  =                  -32                                                  \n",
       "NAXIS   =                    3                                                  \n",
       "NAXIS1  =                  329                                                  \n",
       "NAXIS2  =                  260                                                  \n",
       "NAXIS3  =                  680                                                  \n",
       "CTYPE1  = 'RA      '                                                            \n",
       "CRVAL1  =  1.8000000000000E+02                                                  \n",
       "CRPIX1  = -9.2495000000100E+03                                                  \n",
       "CDELT1  = -1.6666700607100E-02                                                  \n",
       "CTYPE2  = 'DEC     '                                                            \n",
       "CRVAL2  =  0.0000000000000E+00                                                  \n",
       "CRPIX2  = -1.6755000000100E+03                                                  \n",
       "CDELT2  =  1.6666700607100E-02                                                  \n",
       "CTYPE3  = 'VELO-LSR'                                                            \n",
       "CRVAL3  = -4.0008280000300E+05                                                  \n",
       "CRPIX3  =  1.0000000000000E+00                                                  \n",
       "CDELT3  =  7.3612501160100E+02                                                  \n",
       "BUNIT   = 'K (Tb)  '                                                            \n",
       "TELESCOP= 'Arecibo 305m'                                                        \n",
       "DATE-OBS= '2000-01-01T12:00:00.0'                                               \n",
       "RESTFREQ=  1.4204058647200E+09                                                  \n",
       "CELLSCAL= 'CONSTANT'                                                            \n",
       "DATAMAX =  4.2133846282959E+01                                                  \n",
       "DATAMIN = -6.0426634550095E-01                                                  \n",
       "OBSERVER= 'Turn On Galfa Su'                                                    \n",
       "OBJECT  = 'GALFA-HI RA+DEC Tile 22.7500 +30'                                    \n",
       "EPOCH   =  2.0000000000000E+03                                                  \n",
       "ORIGIN  = 'Miriad Fits: version 1.1 09-Feb-07'                                  \n",
       "HISTORY kvis: Module version 1.0.0  Karma v1.7.18  compiled with v1.7.17        "
      ]
     },
     "execution_count": 38,
     "metadata": {},
     "output_type": "execute_result"
    }
   ],
   "source": [
    "hdr"
   ]
  },
  {
   "cell_type": "code",
   "execution_count": 28,
   "metadata": {},
   "outputs": [
    {
     "name": "stderr",
     "output_type": "stream",
     "text": [
      "WARNING: FITSFixedWarning: 'spcfix' made the change 'Changed CTYPE3 from 'VELO-LSR' to 'VOPT', and SPECSYS to 'LSRK''. [astropy.wcs.wcs]\n"
     ]
    }
   ],
   "source": [
    "#cubename = \"data/GALFA_HI_RA+DEC_140.00+18.35_W.fits\"\n",
    "cubename = '/Users/Yong/Dropbox/databucket/M33/GALFA-HI-DR1/M33only.fits'\n",
    "\n",
    "img1 = fits.getdata(cubename)\n",
    "hdr = fits.getheader(cubename)\n",
    "\n",
    "# setting up the WCS\n",
    "wcsleop =  wcs.WCS(hdr)\n",
    "\n",
    "# converting to pixel space\n",
    "tar_x, tar_y, tar_v = wcsleop.all_world2pix(objRA, objDEC, objV*1000, 0)\n",
    "tar_x = int(tar_x)\n",
    "tar_y = int(tar_y)\n",
    "tar_v = int(tar_v)"
   ]
  },
  {
   "cell_type": "code",
   "execution_count": 29,
   "metadata": {
    "collapsed": true
   },
   "outputs": [],
   "source": [
    "## figure out how large the area surrounding the source that we want \n",
    "ep1 = ellipse_mask_cube(semi_a, semi_b, PA, tar_x, tar_y, hdr, extend_pix=0)\n",
    "ep2 = ellipse_mask_cube(semi_a, semi_b, PA, tar_x, tar_y, hdr, extend_pix=5)"
   ]
  },
  {
   "cell_type": "code",
   "execution_count": 30,
   "metadata": {
    "collapsed": true
   },
   "outputs": [],
   "source": [
    "a = img1[tar_v][ep1]"
   ]
  },
  {
   "cell_type": "code",
   "execution_count": 31,
   "metadata": {},
   "outputs": [
    {
     "data": {
      "text/plain": [
       "<matplotlib.text.Text at 0x1116c1630>"
      ]
     },
     "execution_count": 31,
     "metadata": {},
     "output_type": "execute_result"
    },
    {
     "data": {
      "image/png": "[encoded data removed]",
      "text/plain": [
       "<matplotlib.figure.Figure at 0x110c90198>"
      ]
     },
     "metadata": {},
     "output_type": "display_data"
    }
   ],
   "source": [
    "plt.figure(figsize=(8, 8))\n",
    "plt.imshow(np.sum(img1[tar_v-150:tar_v+150, :, :], axis=0), cmap='jet', origin='lower')\n",
    "plt.contour(ep1, colors='white')\n",
    "plt.contour(ep2, colors='r')\n",
    "plt.text(tar_x+15, tar_y+15, 'M33', color='w', fontsize=14, weight='semibold')\n",
    "\n",
    "#plt.xlim(0, 50)\n",
    "#plt.ylim(150, 200)"
   ]
  },
  {
   "cell_type": "markdown",
   "metadata": {},
   "source": [
    "OK, now let's define a function that measures the total mass at some fiducial distance, here 1 Mpc"
   ]
  },
  {
   "cell_type": "code",
   "execution_count": 32,
   "metadata": {
    "collapsed": true
   },
   "outputs": [],
   "source": [
    "    import astropy.units as u\n",
    "    import astropy.constants as cts\n",
    "    solM = cts.M_sun.cgs.value  # solar mass in gram\n",
    "    "
   ]
  },
  {
   "cell_type": "code",
   "execution_count": 37,
   "metadata": {},
   "outputs": [
    {
     "data": {
      "text/latex": [
       "$107726.61 \\; \\mathrm{}$"
      ],
      "text/plain": [
       "<Quantity 107726.61316523638>"
      ]
     },
     "execution_count": 37,
     "metadata": {},
     "output_type": "execute_result"
    }
   ],
   "source": [
    "mass_cloud(ep1, tar_v, 50, img1, hdr, objDEC, dist=0.84)"
   ]
  },
  {
   "cell_type": "code",
   "execution_count": 35,
   "metadata": {
    "collapsed": true
   },
   "outputs": [],
   "source": [
    "def mass_cloud(ep_mask, vpix0, del_pix, data, hdr, objDec, dist=1.0):\n",
    "    \n",
    "    tflux = 0 \n",
    "    for indv in np.arange(vpix0-del_pix, vpix0+del_pix):\n",
    "        tflux = tflux + np.sum((data[indv, :, :])[ep_mask])\n",
    "        \n",
    "    del_cv = hdr['CDELT3']/1e3 # km/s\n",
    "    kmsK = 1.823e18        # km/s/K  from Tb to cm-2 \n",
    "    \n",
    "    import astropy.units as u\n",
    "    import astropy.constants as cts\n",
    "    solM = cts.M_sun.cgs  # solar mass in gram\n",
    "    p_M = cts.m_p.cgs\n",
    "    \n",
    "    cdec = np.radians(np.fabs(hdr['CDELT2']*np.pi/180.))\n",
    "    tmasssolar = (tflux*del_cv*kmsK)*np.cos(np.radians(objDec))*(cdec*dist*u.pc.in_units('cm')*1e6)**2*p_M/solM\n",
    "    return tmasssolar"
   ]
  },
  {
   "cell_type": "code",
   "execution_count": null,
   "metadata": {
    "collapsed": true
   },
   "outputs": [],
   "source": []
  },
  {
   "cell_type": "code",
   "execution_count": 43,
   "metadata": {
    "collapsed": true
   },
   "outputs": [],
   "source": [
    "def mass_cloud(x0, y0, ch0, r, delch, data, hdr, dec, dist=1.0):\n",
    "    # first, let's integrate up the cloud\n",
    "    xx = np.arange(512).reshape([1, 512])*np.ones(512).reshape([512, 1])\n",
    "    yy = np.arange(512).reshape([512, 1])*np.ones(512).reshape([1, 512])\n",
    "    wh = ((xx-x0)**2 + (yy-y0)**2) < r**2\n",
    "    tflux = 0\n",
    "    for ch in np.arange(ch0-delch, ch0+delch):\n",
    "        tflux = tflux + np.sum((data[ch, :, :])[wh])\n",
    "    tmasssolar = tflux*hdr['CDELT3']/1000.*1.8e18*np.cos(dec*np.pi/180.)*(hdr['CDELT2']*np.pi/180.*dist*u.pc.in_units('cm')*1e6)**2*1.6727e-24/1.99e33\n",
    "    return tmasssolar"
   ]
  },
  {
   "cell_type": "code",
   "execution_count": 44,
   "metadata": {
    "collapsed": true
   },
   "outputs": [],
   "source": [
    "leotmass = mass_cloud(int(leotx), int(leoty), int(leotv), radius, halfvelwidth, img1, hdr, leotDEC, dist=0.4)"
   ]
  },
  {
   "cell_type": "code",
   "execution_count": 45,
   "metadata": {
    "collapsed": true
   },
   "outputs": [],
   "source": [
    "def err_mass_cloud(ch0, r, delch, data, hdr, dec, dist=1.0):\n",
    "    offs = []\n",
    "    for x in tqdm(np.arange(r,512-r, r)):\n",
    "        for y in np.arange(r, 512-r, r):\n",
    "            m_off = mass_cloud(x, y, ch0, r, delch, data, hdr, dec, dist=1.0)\n",
    "            offs.append(m_off)\n",
    "    return offs"
   ]
  },
  {
   "cell_type": "markdown",
   "metadata": {},
   "source": [
    "Leo T is not actually a great choice here b/c it's \"off\" in position space includes the Galaxy, So I chose another velocity off to be farther away."
   ]
  },
  {
   "cell_type": "code",
   "execution_count": 46,
   "metadata": {},
   "outputs": [
    {
     "name": "stderr",
     "output_type": "stream",
     "text": [
      "100%|██████████| 50/50 [00:14<00:00,  3.71it/s]\n"
     ]
    }
   ],
   "source": [
    "offs = err_mass_cloud(1024+200, radius, halfvelwidth, img1, hdr, leotDEC, dist=0.4)"
   ]
  },
  {
   "cell_type": "code",
   "execution_count": 220,
   "metadata": {},
   "outputs": [
    {
     "name": "stdout",
     "output_type": "stream",
     "text": [
      "Leo T has an HI mass of 0.389005426847 +/- 0.119341839403 million solar masses\n"
     ]
    }
   ],
   "source": [
    "print('Leo T has an HI mass of ' + np.str(leotmass/1e6) + \n",
    "      ' +/- ' + np.str(np.std(np.asarray(offs)/1e6)) + ' million solar masses')"
   ]
  }
 ],
 "metadata": {
  "anaconda-cloud": {},
  "kernelspec": {
   "display_name": "Python [default]",
   "language": "python",
   "name": "python3"
  },
  "language_info": {
   "codemirror_mode": {
    "name": "ipython",
    "version": 3
   },
   "file_extension": ".py",
   "mimetype": "text/x-python",
   "name": "python",
   "nbconvert_exporter": "python",
   "pygments_lexer": "ipython3",
   "version": "3.5.3"
  }
 },
 "nbformat": 4,
 "nbformat_minor": 1
}
