{
 "cells": [
  {
   "cell_type": "code",
   "execution_count": 1,
   "metadata": {},
   "outputs": [
    {
     "ename": "ModuleNotFoundError",
     "evalue": "No module named 'astropy'",
     "output_type": "error",
     "traceback": [
      "\u001b[0;31m---------------------------------------------------------------------------\u001b[0m",
      "\u001b[0;31mModuleNotFoundError\u001b[0m                       Traceback (most recent call last)",
      "\u001b[0;32m<ipython-input-1-7e65fbb21615>\u001b[0m in \u001b[0;36m<module>\u001b[0;34m()\u001b[0m\n\u001b[0;32m----> 1\u001b[0;31m \u001b[0;32mfrom\u001b[0m \u001b[0mastropy\u001b[0m\u001b[0;34m.\u001b[0m\u001b[0mio\u001b[0m \u001b[0;32mimport\u001b[0m \u001b[0mfits\u001b[0m\u001b[0;34m\u001b[0m\u001b[0m\n\u001b[0m\u001b[1;32m      2\u001b[0m \u001b[0;32mimport\u001b[0m \u001b[0mastropy\u001b[0m\u001b[0;34m.\u001b[0m\u001b[0munits\u001b[0m \u001b[0;32mas\u001b[0m \u001b[0mu\u001b[0m\u001b[0;34m\u001b[0m\u001b[0m\n\u001b[1;32m      3\u001b[0m \u001b[0;32mfrom\u001b[0m \u001b[0mastroquery\u001b[0m \u001b[0;32mimport\u001b[0m \u001b[0mned\u001b[0m\u001b[0;34m\u001b[0m\u001b[0m\n\u001b[1;32m      4\u001b[0m \u001b[0;32mfrom\u001b[0m \u001b[0mastropy\u001b[0m\u001b[0;34m.\u001b[0m\u001b[0mwcs\u001b[0m \u001b[0;32mimport\u001b[0m \u001b[0mwcs\u001b[0m\u001b[0;34m\u001b[0m\u001b[0m\n\u001b[1;32m      5\u001b[0m \u001b[0;32mfrom\u001b[0m \u001b[0mastropy\u001b[0m\u001b[0;34m.\u001b[0m\u001b[0mcoordinates\u001b[0m \u001b[0;32mimport\u001b[0m \u001b[0mSkyCoord\u001b[0m\u001b[0;34m\u001b[0m\u001b[0m\n",
      "\u001b[0;31mModuleNotFoundError\u001b[0m: No module named 'astropy'"
     ]
    }
   ],
   "source": [
    "from astropy.io import fits\n",
    "import astropy.units as u\n",
    "from astroquery import ned\n",
    "from astropy.wcs import wcs\n",
    "from astropy.coordinates import SkyCoord\n",
    "from astropy.table import Table, vstack, hstack\n",
    "import numpy as np\n",
    "import tables\n",
    "from tabulate import tabulate\n",
    "import matplotlib.pyplot as plt\n",
    "import matplotlib.patches as mpatches\n",
    "from math import ceil"
   ]
  },
  {
   "cell_type": "code",
   "execution_count": 2,
   "metadata": {
    "collapsed": true
   },
   "outputs": [],
   "source": [
    "from tqdm import tqdm"
   ]
  },
  {
   "cell_type": "code",
   "execution_count": 3,
   "metadata": {
    "collapsed": true
   },
   "outputs": [],
   "source": [
    "%matplotlib inline\n",
    "import mpld3\n",
    "mpld3.enable_notebook()"
   ]
  },
  {
   "cell_type": "code",
   "execution_count": 4,
   "metadata": {
    "collapsed": true
   },
   "outputs": [],
   "source": [
    "# This is a cell with all self-defined functions\n",
    "def coord_NED(dwarfname):\n",
    "    from astroquery.ned.core import RemoteServiceError\n",
    "    # get rid of the weird symbos *, (, ), etc, since NED doens't like it\n",
    "    newname = dwarfname.replace('*','').replace('(','').replace(')', '')\n",
    "\n",
    "    try:\n",
    "        target = ned.Ned.query_object(newname)\n",
    "        ned_exist = True\n",
    "    except RemoteServiceError: \n",
    "        print('NED does not have info, skip: %s/%s\\n'%(dwarfname, newname))\n",
    "        ned_exist= False \n",
    "    \n",
    "    if ned_exist == False:\n",
    "        tRA, tDEC, tVel, tDist = np.nan, np.nan, np.nan, np.nan\n",
    "    else: # if NED does have this target, then extract coordinates\n",
    "        tRA = target[\"RA(deg)\"].data.data[0]\n",
    "        tDEC = target[\"DEC(deg)\"].data.data[0]\n",
    "        tVel = target[\"Velocity\"].data.data[0]\n",
    "        tDist = target[\"Distance (arcmin)\"].data.data[0]\n",
    "    return tRA, tDEC, tDist, tVel, ned_exist\n",
    "\n",
    "## transform from vhelio to vlsr \n",
    "def vhelio2vlsr_Westmeier(vel_init, ral, decb, reverse=False, doradec=True):\n",
    "    '''\n",
    "    - from http://www.atnf.csiro.au/people/Tobias.Westmeier/tools_hihelpers.php\n",
    "    - obj_ra:  should be in degree\n",
    "    - obj_dec: should be in degree\n",
    "    - vel_init: velocity that need to be transformed\n",
    "    -          vel_init = vhelio if reverse = False\n",
    "    -          vel_init = vlsr   if reverse = True\n",
    "    - Favor this one than the other one from Rosolowsky\n",
    "    '''\n",
    "    from astropy.coordinates import SkyCoord\n",
    "    import numpy as np\n",
    "\n",
    "    if doradec==True:\n",
    "        c = SkyCoord(ral, decb, unit='deg')\n",
    "        l = np.radians(c.galactic.l.value)\n",
    "        b = np.radians(c.galactic.b.value)\n",
    "    else:\n",
    "        l = np.radians(ral)\n",
    "        b = np.radians(decb)\n",
    "    # vlsr 00> vhelio\n",
    "    if reverse:\n",
    "        delv = -(9*np.cos(l)*np.cos(b)+12*np.sin(l)*np.cos(b)+7*np.sin(b))\n",
    "    else:\n",
    "        delv = +9*np.cos(l)*np.cos(b)+12*np.sin(l)*np.cos(b)+7*np.sin(b)\n",
    "\n",
    "    # print 'Velocity correction at this (RA, DEC) is (km/s): ', delv\n",
    "    return vel_init+delv\n",
    "\n",
    "\n",
    "def find_the_cube(ra, dec, observation='HI4PI'):\n",
    "    '''\n",
    "    Use the input (ra, dec) to decide which cube the data locates.\n",
    "\n",
    "    observation: most of the time, it is HI4PI or GALFA-HI . \n",
    "    \n",
    "    Note: GALFA-HI table is not available now, will do later \n",
    "    '''\n",
    "\n",
    "    clt = Table.read('tables/%s_RADEC.dat'%(observation), format='ascii')\n",
    "    cramin, cramax = clt['min_ra'], clt['max_ra']\n",
    "    cdcmin, cdcmax = clt['min_dec'], clt['max_dec']\n",
    "    indra = np.all([ra>cramin, ra<cramax], axis=0)\n",
    "    inddc = np.all([dec>cdcmin, dec<cdcmax], axis=0)\n",
    "    indall = np.where(np.all([indra, inddc], axis=0) == True)\n",
    "\n",
    "    cubename = clt['cubename'][indall]\n",
    "    if len(cubename)==0:\n",
    "        return ''\n",
    "    else:\n",
    "        cubename = cubename[0]\n",
    "\n",
    "        return cubename\n",
    "    \n",
    "import sys\n",
    "import astropy.wcs as wcs\n",
    "import numpy as np\n",
    "\n",
    "\n",
    "# a function to read in header and generate RA, DEC and VLSR array\n",
    "def get_cubeinfo(header, returnHeader=False):\n",
    "    '''\n",
    "    A function created to parse the RA, DEC, (and velocity) information from the 2D (3D) header\n",
    "\n",
    "    - This function has been tested with GALFA-HI/EBHIS cubes, and GALFA-HI 2D images.\n",
    "    -               also been tested with LAB cubes/images that are in (glon, glat) coordinates.\n",
    "    - The input header can be 2D: NAXIS=2. NAXIS1 is RA (glon), 2 is DEC (glat)\n",
    "    -                      or 3D: NAXIS=3. NAXIS1 is RA (glon), 2 is DEC (glat), 3 is Velocity\n",
    "    - Return: if GALFA-HI or EBHIS:\n",
    "                        ra and dec in 2D, with shape of (dec.size, ra.size) or (NAXIS2, NAXIS1)\n",
    "    -                   velocity in 1D.\n",
    "                        or (ra, dec, vlsr, header array)\n",
    "    -         if LAB:\n",
    "                        glon, glat in 2D, with shape of (glat.size, glon.size) or (NAXIS2, NAXIS1)\n",
    "    -                   velocity in 1D.\n",
    "                        or (gl, gb, vlsr, header array)\n",
    "    - History: updated as of 2016.10.03. Yong Zheng @ Columbia Astro.\n",
    "    '''\n",
    "\n",
    "\n",
    "    hdrarrs = []\n",
    "    if header['NAXIS'] == 2:\n",
    "        hdr2d = header.copy()\n",
    "        hdrarrs.append(hdr2d)\n",
    "    elif header['NAXIS'] == 3:\n",
    "        # create a 2D header (RA/DEC) to speed up the RA/DEC calculation using astropy.wcs\n",
    "        hdr2d = header.copy()\n",
    "        # we don't need the velocity (3) information in the header\n",
    "        delkey = []\n",
    "        for key in hdr2d.keys():\n",
    "            if len(key) != 0 and key[-1] == '3': delkey.append(key)\n",
    "        for i in delkey: del hdr2d[i]\n",
    "\n",
    "        hdr2d['NAXIS'] = 2\n",
    "        if 'WCSAXES' in hdr2d.keys(): hdr2d['WCSAXES']=2\n",
    "        # create a 1D header (vel) to parse the velocity using astropy.wcs\n",
    "        hdr1d = header.copy()\n",
    "        # we don't need the RA/DEC keywords info in the header now.\n",
    "        delkey = []\n",
    "        for keya in hdr1d.keys():\n",
    "            if len(keya) != 0 and keya[-1] in ['1', '2']: delkey.append(keya)\n",
    "        for i in delkey: del hdr1d[i]\n",
    "        delkey = []\n",
    "        for keyb in hdr1d.keys():\n",
    "            if len(keyb) != 0 and keyb[-1] == '3':\n",
    "                hdr1d.append('%s1'%(keyb[:-1]))\n",
    "                hdr1d['%s1'%(keyb[:-1])] = hdr1d[keyb]\n",
    "                delkey.append(keyb)\n",
    "        for i in delkey: del hdr1d[i]\n",
    "        hdr1d['NAXIS'] = 1\n",
    "        if 'WCSAXES' in hdr1d.keys(): hdr1d['WCSAXES']=1\n",
    "\n",
    "        # save header arrays\n",
    "        hdrarrs.append(hdr2d)\n",
    "        hdrarrs.append(hdr1d)\n",
    "    else:\n",
    "        print(\"This code can only handle 2D or 3D data\")\n",
    "        sys.exit(1)\n",
    "\n",
    "    return_arrays = []\n",
    "\n",
    "    # calculate RA, DEC\n",
    "    gwcsa = wcs.WCS(hdr2d)\n",
    "    n1, n2 = hdr2d['NAXIS1'], hdr2d['NAXIS2']\n",
    "    ax = np.reshape(np.mgrid[0:n1:1]+1, (1, n1))  # For FITS standard, origin = 1\n",
    "    ay = np.reshape(np.mgrid[0:n2:1]+1, (n2, 1))  #   then for numpy standard, origin = 0\n",
    "    coor1, coor2 = gwcsa.all_pix2world(ax, ay, 1) # coor1 = ra  or glon\n",
    "    return_arrays.append(coor1)                   # coor2 = dec or glat\n",
    "    return_arrays.append(coor2)\n",
    "\n",
    "    ## calculate VLSR\n",
    "    if header['NAXIS'] == 3:\n",
    "        gwcsb = wcs.WCS(hdr1d)\n",
    "        n1 = hdr1d['NAXIS1']\n",
    "        ax = np.mgrid[0:n1:1]+1\n",
    "        # ax = np.linspace(0, n1, n1)  # nope, wrong\n",
    "        vel = gwcsb.all_pix2world(ax, 1)[0]\n",
    "        if 'CUNIT1' in hdr1d.keys():\n",
    "            if hdr1d['CUNIT1'] in ['m/s', 'M/S', 'M/s', 'm/S']:\n",
    "                vel = vel/1e3\n",
    "        else: vel = vel/1e3  # default is usually in m/s\n",
    "        return_arrays.append(vel)\n",
    "\n",
    "    if returnHeader == True: return_arrays.append(hdrarrs)\n",
    "    return return_arrays"
   ]
  },
  {
   "cell_type": "code",
   "execution_count": 5,
   "metadata": {
    "collapsed": true
   },
   "outputs": [],
   "source": [
    "def ellipse_mask_cube(semi_a, semi_b, PA, tar_x, tar_y, cube_header, extend_pix = 0):\n",
    "    ## make ellipse based on the semi major/minor axies and position angle of the targets \n",
    "    \n",
    "    cube_wh = cube_header['NAXIS1']  # RA\n",
    "    cube_ht = cube_header['NAXIS2']  # DEC\n",
    "    x1d = np.arange(cube_wh)\n",
    "    y1d = np.arange(cube_ht)\n",
    "    x2d, y2d = np.meshgrid(x1d, y1d)\n",
    "\n",
    "    # center at the source \n",
    "    x2d_nc, y2d_nc = x2d-tar_x, y2d-tar_y\n",
    "\n",
    "    # this is a rough pixel length for the semimajor and semiminor axis\n",
    "    semi_a_pix = ceil(abs(semi_a / cube_header['CDELT1']))\n",
    "    semi_b_pix = ceil(abs(semi_b / cube_header['CDELT1']))\n",
    "    \n",
    "    #phi = np.radians(90-PA) changing \n",
    "    phi = np.radians(90+PA)\n",
    "\n",
    "    # transform to new coordinate system\n",
    "    xx_prime = x2d_nc*np.cos(phi) + y2d_nc*np.sin(phi)\n",
    "    yy_prime = -x2d_nc*np.sin(phi) + y2d_nc*np.cos(phi)\n",
    "\n",
    "    mask_ep = ((xx_prime/(semi_a_pix+extend_pix))**2 + (yy_prime/(semi_b_pix+extend_pix))**2)<=1 \n",
    "    return mask_ep"
   ]
  },
  {
   "cell_type": "code",
   "execution_count": 6,
   "metadata": {
    "collapsed": true
   },
   "outputs": [],
   "source": [
    "def find_info(objname):\n",
    "    from astropy.table import Table \n",
    "    tb = Table.read('/Users/amalyajohnson/Desktop/astro/Dwarf Galaxies/dwarfgalcomplete.txt', format='ascii')\n",
    "    \n",
    "    newname = objname.replace('*','').replace('(','').replace(')', '').replace(' ', '')\n",
    "    for i, iname in enumerate(tb['GalaxyName']):\n",
    "        i_tbnewname = iname.replace('*','').replace('(','').replace(')', '').replace(' ', '')\n",
    "        \n",
    "        if newname == i_tbnewname:\n",
    "            find_it = True\n",
    "            break\n",
    "        else: \n",
    "            find_it = False\n",
    "            \n",
    "    if find_it == True:\n",
    "        print('YES, we find it!!!', tb['RA'][i], tb['DEC'][i], tb['vh(m/s)'][i])\n",
    "        return tb['RA'][i], tb['DEC'][i], tb['vh(m/s)'][i], tb['rh(arcmins)'][i], tb['e=1-b/a'][i], tb['PA'][i]\n",
    "    else:\n",
    "        print('Sorry, not there, check your object name. ')\n",
    "        return np.nan, np.nan, np.nan\n",
    "    "
   ]
  },
  {
   "cell_type": "markdown",
   "metadata": {},
   "source": [
    "# Galaxy Info"
   ]
  },
  {
   "cell_type": "code",
   "execution_count": 202,
   "metadata": {},
   "outputs": [
    {
     "name": "stdout",
     "output_type": "stream",
     "text": [
      "YES, we find it!!! 336.092 5.42 999900\n"
     ]
    }
   ],
   "source": [
    "objname = 'Pegasus3' \n",
    "\n",
    "objRA, objDEC, objV_helio, a, ecc, PA = find_info(objname)\n",
    "vcoord = vhelio2vlsr_Westmeier(0, objRA, objDEC, doradec=True) #in km/s\n",
    "objV = objV_helio + vcoord*1e3\n",
    "semi_b = (1 - ecc)*a/60 #degree, semi minor axis\n",
    "semi_a = a/60 #degree, semi major axis\n",
    "\n",
    "#For unresolved undetected only looking at 30 arcmin region:  \n",
    "semi_a = .25  \n",
    "semi_b = .25"
   ]
  },
  {
   "cell_type": "code",
   "execution_count": 203,
   "metadata": {},
   "outputs": [
    {
     "name": "stderr",
     "output_type": "stream",
     "text": [
      "WARNING: VerifyWarning: Invalid 'BLANK' keyword in header.  The 'BLANK' keyword is only applicable to integer data, and will be ignored in this HDU. [astropy.io.fits.hdu.image]\n"
     ]
    }
   ],
   "source": [
    "cubename = '/Users/amalyajohnson/Desktop/datacubes/DR1 GALFA/GALFA_HI_RA+DEC_332.00+02.35_W' #pull correct cube from directory\n",
    "img1 = fits.getdata(cubename)\n",
    "hdr = fits.getheader(cubename)"
   ]
  },
  {
   "cell_type": "code",
   "execution_count": 204,
   "metadata": {},
   "outputs": [
    {
     "name": "stderr",
     "output_type": "stream",
     "text": [
      "WARNING: FITSFixedWarning: 'spcfix' made the change 'Changed CTYPE3 from 'VELO-LSR' to 'VOPT''. [astropy.wcs.wcs]\n",
      "WARNING: FITSFixedWarning: 'spcfix' made the change 'Changed CTYPE1 from 'VELO-LSR' to 'VOPT''. [astropy.wcs.wcs]\n"
     ]
    }
   ],
   "source": [
    "# setting up the WCS\n",
    "wcsleop =  wcs.WCS(hdr)\n",
    "\n",
    "# converting to pixel space\n",
    "tar_x, tar_y, tar_v = wcsleop.all_world2pix(objRA, objDEC, objV, 0)\n",
    "\n",
    "tar_x = int(tar_x)\n",
    "tar_y = int(tar_y)\n",
    "tar_v = int(tar_v)\n",
    "\n",
    "# & checking it's in there, make sure the shape fits the size of tar_v, tar_x, tar_y\n",
    "img1.shape,  tar_v, tar_x, tar_y\n",
    "#help(wcsleop.all_world2pix)\n",
    "\n",
    "### get the whole RA/DEC/Vel channel from the header \n",
    "all_ra, all_dec, all_vlsr = get_cubeinfo(hdr)  # all_vlsr is in km/s"
   ]
  },
  {
   "cell_type": "code",
   "execution_count": 205,
   "metadata": {
    "collapsed": true
   },
   "outputs": [],
   "source": [
    "# figure out how large the area surrounding the source that we want \n",
    "ep1 = ellipse_mask_cube(semi_a, semi_b, PA, tar_x, tar_y, hdr, extend_pix=0) #30 arcmin diameter because already changed semi_a and semi_b initially\n",
    "ep2 = ellipse_mask_cube(.5, .5, PA, tar_x, tar_y, hdr, extend_pix = 0) #1 degree diameter"
   ]
  },
  {
   "cell_type": "markdown",
   "metadata": {},
   "source": [
    "# No Velocity:"
   ]
  },
  {
   "cell_type": "code",
   "execution_count": 206,
   "metadata": {
    "collapsed": true
   },
   "outputs": [],
   "source": [
    "#all_vlsr[tar_v] # the velocity where the target central velocity channel is "
   ]
  },
  {
   "cell_type": "code",
   "execution_count": 207,
   "metadata": {},
   "outputs": [
    {
     "data": {
      "text/plain": [
       "array([-750, -740, -730, -720, -710, -700, -690, -680, -670, -660, -650,\n",
       "       -640, -630, -620, -610, -600, -590, -580, -570, -560, -550, -540,\n",
       "       -530, -520, -510, -500, -490, -480, -470, -460, -450, -440, -430,\n",
       "       -420, -410, -400, -390, -380, -370, -360, -350, -340, -330, -320,\n",
       "       -310, -300, -290, -280, -270, -260, -250, -240, -230, -220, -210,\n",
       "       -200, -190, -180, -170, -160, -150, -140, -130, -120, -110, -100,\n",
       "        -90,  -80,  -70,  -60,  -50,  -40,  -30,  -20,  -10,    0,   10,\n",
       "         20,   30,   40,   50,   60,   70,   80,   90,  100,  110,  120,\n",
       "        130,  140,  150,  160,  170,  180,  190,  200,  210,  220,  230,\n",
       "        240,  250,  260,  270,  280,  290,  300,  310,  320,  330,  340,\n",
       "        350,  360,  370,  380,  390,  400,  410,  420,  430,  440,  450,\n",
       "        460,  470,  480,  490,  500,  510,  520,  530,  540,  550,  560,\n",
       "        570,  580,  590,  600,  610,  620,  630,  640,  650,  660,  670,\n",
       "        680,  690,  700,  710,  720,  730,  740])"
      ]
     },
     "execution_count": 207,
     "metadata": {},
     "output_type": "execute_result"
    }
   ],
   "source": [
    "def std_array(objname, datacube): \n",
    "    \n",
    "    vel_bins = np.mgrid[-750:750:10]  # (-600, -590, .... 590, 600) bin size in velocity km/s\n",
    "    #-600 to 601 for hi4pi, -750 to 751 for GALFA-HI\n",
    "    flux_stds = np.zeros(vel_bins.size)\n",
    "    \n",
    "    for i, iv in enumerate(vel_bins):\n",
    "        # find the closest velocity to iv \n",
    "        v_chan = np.argmin(np.fabs(all_vlsr-iv))\n",
    "        #print(v_chan, iv, all_vlsr[v_chan])      # and test iv and all_vlsr[v_chan] are indeed the closest   \n",
    "        f_std = np.nanstd(datacube[v_chan][ep1]) # ep1 is 30 arcmin beam, ep2 would be 1 degree\n",
    "        flux_stds[i] = f_std\n",
    "    return vel_bins, flux_stds\n",
    "\n",
    "vel_bins, flux_stds = std_array(objname, img1)\n",
    "# vel_bins, np.arange(all_vlsr.min(), all_vlsr.max(), 10)\n",
    "\n",
    "std_array(objname, img1)\n",
    "\n",
    "vel_bins"
   ]
  },
  {
   "cell_type": "code",
   "execution_count": 208,
   "metadata": {},
   "outputs": [
    {
     "data": {
      "text/plain": [
       "0.052954327315092087"
      ]
     },
     "execution_count": 208,
     "metadata": {},
     "output_type": "execute_result"
    }
   ],
   "source": [
    "rowv = flux_stds\n",
    "\n",
    "np.nanmedian(flux_stds) #= med? "
   ]
  },
  {
   "cell_type": "code",
   "execution_count": null,
   "metadata": {
    "collapsed": true
   },
   "outputs": [],
   "source": []
  },
  {
   "cell_type": "code",
   "execution_count": 209,
   "metadata": {},
   "outputs": [],
   "source": [
    "#median around: looking at by eye\n",
    "med = .05\n",
    "row_med = ([objname, med])"
   ]
  },
  {
   "cell_type": "code",
   "execution_count": 211,
   "metadata": {},
   "outputs": [
    {
     "data": {
      "text/html": [
       "&lt;Table length=1&gt;\n",
       "<table id=\"table5054808136\" class=\"table-striped table-bordered table-condensed\">\n",
       "<thead><tr><th>GalaxyName</th><th>med</th><th>-750</th><th>-740</th><th>-730</th><th>-720</th><th>-710</th><th>-700</th><th>-690</th><th>-680</th><th>-670</th><th>-660</th><th>-650</th><th>-640</th><th>-630</th><th>-620</th><th>-610</th><th>-600</th><th>-590</th><th>-580</th><th>-570</th><th>-560</th><th>-550</th><th>-540</th><th>-530</th><th>-520</th><th>-510</th><th>-500</th><th>-490</th><th>-480</th><th>-470</th><th>-460</th><th>-450</th><th>-440</th><th>-430</th><th>-420</th><th>-410</th><th>-400</th><th>-390</th><th>-380</th><th>-370</th><th>-360</th><th>-350</th><th>-340</th><th>-330</th><th>-320</th><th>-310</th><th>-300</th><th>-290</th><th>-280</th><th>-270</th><th>-260</th><th>-250</th><th>-240</th><th>-230</th><th>-220</th><th>-210</th><th>-200</th><th>-190</th><th>-180</th><th>-170</th><th>-160</th><th>-150</th><th>-140</th><th>-130</th><th>-120</th><th>-110</th><th>-100</th><th>-90</th><th>-80</th><th>-70</th><th>-60</th><th>-50</th><th>-40</th><th>-30</th><th>-20</th><th>-10</th><th>0</th><th>10</th><th>20</th><th>30</th><th>40</th><th>50</th><th>60</th><th>70</th><th>80</th><th>90</th><th>100</th><th>110</th><th>120</th><th>130</th><th>140</th><th>150</th><th>160</th><th>170</th><th>180</th><th>190</th><th>200</th><th>210</th><th>220</th><th>230</th><th>240</th><th>250</th><th>260</th><th>270</th><th>280</th><th>290</th><th>300</th><th>310</th><th>320</th><th>330</th><th>340</th><th>350</th><th>360</th><th>370</th><th>380</th><th>390</th><th>400</th><th>410</th><th>420</th><th>430</th><th>440</th><th>450</th><th>460</th><th>470</th><th>480</th><th>490</th><th>500</th><th>510</th><th>520</th><th>530</th><th>540</th><th>550</th><th>560</th><th>570</th><th>580</th><th>590</th><th>600</th><th>610</th><th>620</th><th>630</th><th>640</th><th>650</th><th>660</th><th>670</th><th>680</th><th>690</th><th>700</th><th>710</th><th>720</th><th>730</th><th>740</th></tr></thead>\n",
       "<thead><tr><th>str11</th><th>float64</th><th>float64</th><th>float64</th><th>float64</th><th>float64</th><th>float64</th><th>float64</th><th>float64</th><th>float64</th><th>float64</th><th>float64</th><th>float64</th><th>float64</th><th>float64</th><th>float64</th><th>float64</th><th>float64</th><th>float64</th><th>float64</th><th>float64</th><th>float64</th><th>float64</th><th>float64</th><th>float64</th><th>float64</th><th>float64</th><th>float64</th><th>float64</th><th>float64</th><th>float64</th><th>float64</th><th>float64</th><th>float64</th><th>float64</th><th>float64</th><th>float64</th><th>float64</th><th>float64</th><th>float64</th><th>float64</th><th>float64</th><th>float64</th><th>float64</th><th>float64</th><th>float64</th><th>float64</th><th>float64</th><th>float64</th><th>float64</th><th>float64</th><th>float64</th><th>float64</th><th>float64</th><th>float64</th><th>float64</th><th>float64</th><th>float64</th><th>float64</th><th>float64</th><th>float64</th><th>float64</th><th>float64</th><th>float64</th><th>float64</th><th>float64</th><th>float64</th><th>float64</th><th>float64</th><th>float64</th><th>float64</th><th>float64</th><th>float64</th><th>float64</th><th>float64</th><th>float64</th><th>float64</th><th>float64</th><th>float64</th><th>float64</th><th>float64</th><th>float64</th><th>float64</th><th>float64</th><th>float64</th><th>float64</th><th>float64</th><th>float64</th><th>float64</th><th>float64</th><th>float64</th><th>float64</th><th>float64</th><th>float64</th><th>float64</th><th>float64</th><th>float64</th><th>float64</th><th>float64</th><th>float64</th><th>float64</th><th>float64</th><th>float64</th><th>float64</th><th>float64</th><th>float64</th><th>float64</th><th>float64</th><th>float64</th><th>float64</th><th>float64</th><th>float64</th><th>float64</th><th>float64</th><th>float64</th><th>float64</th><th>float64</th><th>float64</th><th>float64</th><th>float64</th><th>float64</th><th>float64</th><th>float64</th><th>float64</th><th>float64</th><th>float64</th><th>float64</th><th>float64</th><th>float64</th><th>float64</th><th>float64</th><th>float64</th><th>float64</th><th>float64</th><th>float64</th><th>float64</th><th>float64</th><th>float64</th><th>float64</th><th>float64</th><th>float64</th><th>float64</th><th>float64</th><th>float64</th><th>float64</th><th>float64</th><th>float64</th><th>float64</th><th>float64</th><th>float64</th><th>float64</th><th>float64</th></tr></thead>\n",
       "<tr><td>Pegasus3</td><td>0.05</td><td>1.52587890625e-05</td><td>1.52587890625e-05</td><td>1.52587890625e-05</td><td>1.52587890625e-05</td><td>12.1518945694</td><td>0.0702108591795</td><td>0.0618136264384</td><td>0.0517987422645</td><td>0.0530429035425</td><td>0.0520472154021</td><td>0.04904390499</td><td>0.0577242597938</td><td>0.0649710968137</td><td>0.064019292593</td><td>0.0583398379385</td><td>0.0616272725165</td><td>0.0610166043043</td><td>0.0606604106724</td><td>0.060619469732</td><td>0.0600510910153</td><td>0.0590834245086</td><td>0.0600789375603</td><td>0.0539867915213</td><td>0.0593913570046</td><td>0.057037435472</td><td>0.0512610338628</td><td>0.0493445284665</td><td>0.0529550015926</td><td>0.0580542869866</td><td>0.0548736155033</td><td>0.0566315092146</td><td>0.0531540848315</td><td>0.0661942884326</td><td>0.0604238584638</td><td>0.0613946355879</td><td>0.0630280524492</td><td>0.0565187968314</td><td>0.0604294873774</td><td>0.0542073771358</td><td>0.0590638257563</td><td>0.0609341450036</td><td>0.0594279244542</td><td>0.0529536530375</td><td>0.0498120374978</td><td>0.0522583387792</td><td>0.0620240010321</td><td>0.0644536912441</td><td>0.0616792216897</td><td>0.0544615350664</td><td>0.0519843399525</td><td>0.0590311288834</td><td>0.0552024543285</td><td>0.0588218271732</td><td>0.0589235313237</td><td>0.0531166754663</td><td>0.0584451630712</td><td>0.0530618391931</td><td>0.0570667050779</td><td>0.0606537684798</td><td>0.0574893914163</td><td>0.0611517801881</td><td>0.0546850822866</td><td>0.0544044151902</td><td>0.057630803436</td><td>0.0580237284303</td><td>0.0535509884357</td><td>0.0504878796637</td><td>0.0584247373044</td><td>0.0617797970772</td><td>0.0594453588128</td><td>0.056074988097</td><td>0.0536369495094</td><td>0.0529033951461</td><td>0.0797229409218</td><td>1.81794095039</td><td>1.67410850525</td><td>0.725980818272</td><td>0.0747250244021</td><td>0.0593903623521</td><td>0.0552567727864</td><td>0.043791256845</td><td>0.0423352867365</td><td>0.0531145222485</td><td>0.0481563694775</td><td>0.0434575229883</td><td>0.0395965203643</td><td>0.0398367568851</td><td>0.0431990884244</td><td>0.0456782393157</td><td>0.0460207499564</td><td>0.0502278134227</td><td>0.0428024716675</td><td>0.0462703071535</td><td>0.0477574802935</td><td>0.0477234274149</td><td>0.0497674532235</td><td>0.0413969382644</td><td>0.0468579754233</td><td>0.0458323284984</td><td>0.0433240644634</td><td>0.0478004254401</td><td>0.0489499643445</td><td>0.0441944636405</td><td>0.0474888905883</td><td>0.0506392195821</td><td>0.0553850494325</td><td>0.047641415149</td><td>0.0423948802054</td><td>0.0510342828929</td><td>0.0400293543935</td><td>0.0444069653749</td><td>0.0458653867245</td><td>0.0496945083141</td><td>0.0432445183396</td><td>0.0451038740575</td><td>0.0418308824301</td><td>0.0469280257821</td><td>0.0482001639903</td><td>0.0479100979865</td><td>0.0453667007387</td><td>0.0457739681005</td><td>0.0459159128368</td><td>0.0535564906895</td><td>0.0473573356867</td><td>0.053309969604</td><td>0.0464741401374</td><td>0.043821234256</td><td>0.0536215007305</td><td>0.0433210246265</td><td>0.0473789833486</td><td>0.0433113612235</td><td>0.0433566719294</td><td>0.0438443943858</td><td>0.0431476347148</td><td>0.0441075004637</td><td>0.044555015862</td><td>0.0499598830938</td><td>0.0486749596894</td><td>0.0532649978995</td><td>0.050305351615</td><td>0.048921726644</td><td>0.0565292909741</td><td>0.0490506365895</td><td>0.052116792649</td><td>0.0508641786873</td><td>0.0562365092337</td><td>14.7406806946</td><td>59.2882614136</td><td>1.52587890625e-05</td><td>1.52587890625e-05</td></tr>\n",
       "</table>"
      ],
      "text/plain": [
       "<Table length=1>\n",
       "GalaxyName   med          -750       ...        730               740       \n",
       "  str11    float64      float64      ...      float64           float64     \n",
       "---------- ------- ----------------- ... ----------------- -----------------\n",
       "  Pegasus3    0.05 1.52587890625e-05 ... 1.52587890625e-05 1.52587890625e-05"
      ]
     },
     "execution_count": 211,
     "metadata": {},
     "output_type": "execute_result"
    }
   ],
   "source": [
    "tbvel = Table(names = vel_bins)\n",
    "tbvel.add_row(rowv)\n",
    "\n",
    "tbmed = Table(names=('GalaxyName', 'med'), \n",
    "             meta={'name': 'first table'},\n",
    "              dtype=('<U11', 'f8'))\n",
    "\n",
    "tbmed.add_row(row_med)\n",
    "\n",
    "tbvel\n",
    "tb = hstack([tbmed, tbvel])\n",
    "\n",
    "f = open('galfa_novelocity.txt', 'w')\n",
    "table = tb\n",
    "f.write(tabulate(tb))\n",
    "f.close\n",
    "\n",
    "tb"
   ]
  },
  {
   "cell_type": "markdown",
   "metadata": {},
   "source": [
    "# Table"
   ]
  },
  {
   "cell_type": "code",
   "execution_count": null,
   "metadata": {
    "collapsed": true
   },
   "outputs": [],
   "source": [
    "tba = Table(names=('GalaxyName', 'med_std'), \n",
    "             meta={'name': 'first table'},\n",
    "              dtype=('<U11', 'f8'))\n",
    "tbnew.add_row(rowa)\n",
    "\n",
    "\n",
    "#tb = Table.read('/Users/amalyajohnson/Desktop/astro/Dwarf Galaxies/hi4pi_resolved_undetected_table.txt', format='ascii')\n",
    "#tb.add_row(rowd)\n",
    "\n",
    "tb = (hstack([tba, tbb]))\n",
    "\n",
    "f = open('galfa_unresolved_undetected_range.txt', 'w')\n",
    "table = tb\n",
    "f.write(tabulate(tb))\n",
    "f.close\n",
    "\n",
    "tb\n"
   ]
  },
  {
   "cell_type": "markdown",
   "metadata": {},
   "source": [
    "# Std30_med, If Velocity Defined: "
   ]
  },
  {
   "cell_type": "code",
   "execution_count": null,
   "metadata": {},
   "outputs": [],
   "source": [
    "#a velocity channels, optical size of galaxy, this has been extended to 30arcmin for them all from the beginning \n",
    "a_1 = (img1[tar_v-5][ep1])\n",
    "a_2 = (img1[tar_v-4][ep1])\n",
    "a_3 = (img1[tar_v-3][ep1])\n",
    "a_4 = (img1[tar_v-2][ep1])\n",
    "a_5 = (img1[tar_v-1][ep1])\n",
    "a_6 = (img1[tar_v][ep1])\n",
    "a_7 = (img1[tar_v+1][ep1])\n",
    "a_8 = (img1[tar_v+2][ep1])\n",
    "a_9 = (img1[tar_v+3][ep1])\n",
    "a_10 = (img1[tar_v+4][ep1])\n",
    "a_11 = (img1[tar_v+5][ep1])\n",
    "arange = np.array([a_1, a_2, a_3, a_4, a_5, a_6, a_7, a_8, a_9, a_10, a_11])\n",
    "arange_std = np.array([np.nanstd(a_1), np.nanstd(a_2), np.nanstd(a_3), np.nanstd(a_4),\n",
    "                       np.nanstd(a_5), np.nanstd(a_6), np.nanstd(a_7), np.nanstd(a_8),\n",
    "                       np.nanstd(a_9), np.nanstd(a_10), np.nanstd(a_11)])\n",
    "\n",
    "\n",
    "#b velocity channels, 1 degree diameter    \n",
    "b_1 = (img1[tar_v-5][ep2])\n",
    "b_2 = (img1[tar_v-4][ep2])\n",
    "b_3 = (img1[tar_v-3][ep2])\n",
    "b_4 = (img1[tar_v-2][ep2])\n",
    "b_5 = (img1[tar_v-1][ep2])\n",
    "b_6 = (img1[tar_v][ep2])\n",
    "b_7 = (img1[tar_v+1][ep2])\n",
    "b_8 = (img1[tar_v+2][ep2])\n",
    "b_9 = (img1[tar_v+3][ep2])\n",
    "b_10 = (img1[tar_v+4][ep2])\n",
    "b_11 = (img1[tar_v+5][ep2])\n",
    "brange = np.array([b_1, b_2, b_3, b_4, b_5, b_6, b_7, b_8, b_9, b_10, b_11])\n",
    "brange_std = np.array([np.nanstd(b_1), np.nanstd(b_2), np.nanstd(b_3), np.nanstd(b_4), \n",
    "                       np.nanstd(b_5), np.nanstd(b_6), np.nanstd(b_7), np.nanstd(b_8), \n",
    "                       np.nanstd(b_9), np.nanstd(b_10), np.nanstd(b_11)])\n",
    "\n",
    "med_stda = np.nanmedian(arange_std)\n",
    "med_stdb = np.nanmedian(brange_std)\n",
    "arange_std, med_stda \n",
    "\n",
    "#arange_std: stdev of 30arcmin region at the location of the galaxy through +/- 5 velocity channels from the central velocity\n",
    "#med_stda: the median of this list of standard deviations\n",
    "rowa = objname, '%.7f'%(med_stda)\n",
    "rowb = arange_std\n",
    "med_stda"
   ]
  },
  {
   "cell_type": "markdown",
   "metadata": {},
   "source": [
    "# Table"
   ]
  },
  {
   "cell_type": "code",
   "execution_count": null,
   "metadata": {
    "collapsed": true
   },
   "outputs": [],
   "source": []
  },
  {
   "cell_type": "code",
   "execution_count": null,
   "metadata": {},
   "outputs": [],
   "source": [
    "#tba = Table(names=('GalaxyName', 'med_std'), \n",
    "#             meta={'name': 'first table'},\n",
    "#              dtype=('<U11', 'f8'))\n",
    "tba.add_row(rowa)\n",
    "\n",
    "#tbb = Table(names=('v_-5', 'v_-4', 'v_-3', 'v_-2', \n",
    "#                      'v_-1', 'v_0', 'v_+1', 'v_+2', 'v_+3', 'v_+4', 'v_+5'), \n",
    "#             meta={'name': 'first table'},\n",
    "#              dtype=('f8', 'f8', 'f8', 'f8', 'f8', 'f8', 'f8', 'f8', 'f8', 'f8', 'f8'))\n",
    "tbb.add_row(rowb)\n",
    "\n",
    "#tb = Table.read('/Users/amalyajohnson/Desktop/astro/Dwarf Galaxies/hi4pi_resolved_undetected_table.txt', format='ascii')\n",
    "#tb.add_row(rowd)\n",
    "\n",
    "tb = (hstack([tba, tbb]))\n",
    "\n",
    "f = open('galfa_unresolved_undetected_range.txt', 'w')\n",
    "table = tb\n",
    "f.write(tabulate(tb))\n",
    "f.close\n",
    "\n",
    "tb\n"
   ]
  },
  {
   "cell_type": "markdown",
   "metadata": {},
   "source": [
    "# MHI"
   ]
  },
  {
   "cell_type": "code",
   "execution_count": null,
   "metadata": {},
   "outputs": [],
   "source": [
    "def dist(objname):\n",
    "    tbm = Table.read('/Users/amalyajohnson/Desktop/astro/Dwarf Galaxies/dwarfgalcomplete_newnew.txt', format='ascii')\n",
    "    for i, iname in enumerate(tbm['GalaxyName']):\n",
    "        if iname == objname:\n",
    "            find_it = True\n",
    "            break \n",
    "        else: \n",
    "            find_it = False\n",
    "        \n",
    "    if find_it == True:\n",
    "        dist = float(tbm['dist(kpc)'][i])\n",
    "        return dist \n",
    "\n",
    "print(dist(objname), objname)"
   ]
  },
  {
   "cell_type": "code",
   "execution_count": null,
   "metadata": {},
   "outputs": [],
   "source": [
    "# MHI = (2.36x10**5)(D**2 mpc)(Stot) for unresolved\n",
    "x = 2.36*1e5\n",
    "dmpc = dist(objname)/1e3  #mpc \n",
    "tflux = 0.030336279 #put in by hand because every table different/not exactly formatted\n",
    "stot = tflux*10 #tflux always multiplied by 10km/s\n",
    "\n",
    "#galfa: 9.1 k/Jy hi4pi: .6 jy/k\n",
    "g = 1/9.1 \n",
    "h = .6\n",
    "\n",
    "\n",
    "MHI = x*(dmpc**2)*(stot*g) #multiply by 'h' or 'g' (hi4pi or galfa) to convert to janskys \n",
    "y = MHI\n",
    "'%.5f'%(y)  #show 5 decimal points"
   ]
  },
  {
   "cell_type": "code",
   "execution_count": null,
   "metadata": {
    "collapsed": true
   },
   "outputs": [],
   "source": [
    "x = plt.scatter(vel_bins, flux_stds)\n",
    "plt.show(x)"
   ]
  },
  {
   "cell_type": "markdown",
   "metadata": {},
   "source": [
    "# Plot:"
   ]
  },
  {
   "cell_type": "code",
   "execution_count": null,
   "metadata": {
    "collapsed": true
   },
   "outputs": [],
   "source": [
    "plt.figure(figsize=(8, 8))\n",
    "im = plt.imshow(img1[tar_v, :, :], cmap='jet', origin='lower' , vmin=-.5, vmax=.5)\n",
    "plt.contour(ep1, colors='white', label='Optical Size')\n",
    "plt.contour(ep2, colors='red', label='30 Arcmin region')\n",
    "plt.text(tar_x+15, tar_y+15, objname, color='w', fontsize=14, weight='semibold')\n",
    "plt.title(objname)\n",
    "plt.colorbar(im)\n",
    "\n",
    "#plt.xlim(0, 50)\n",
    "#plt.ylim(75, 125)\n",
    "\n",
    "#plt.savefig('/Users/amalyajohnson/Desktop/unresolved undetected/%s_image1_hi4pi.pdf'%(objname)) #to save file\n",
    "plt.show()"
   ]
  }
 ],
 "metadata": {
  "kernelspec": {
   "display_name": "Python 3",
   "language": "python",
   "name": "python3"
  },
  "language_info": {
   "codemirror_mode": {
    "name": "ipython",
    "version": 3
   },
   "file_extension": ".py",
   "mimetype": "text/x-python",
   "name": "python",
   "nbconvert_exporter": "python",
   "pygments_lexer": "ipython3",
   "version": "3.6.0"
  }
 },
 "nbformat": 4,
 "nbformat_minor": 2
}
